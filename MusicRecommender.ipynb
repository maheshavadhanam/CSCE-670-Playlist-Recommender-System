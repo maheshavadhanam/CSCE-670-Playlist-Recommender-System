{
 "cells": [
  {
   "cell_type": "code",
   "execution_count": 10,
   "metadata": {},
   "outputs": [],
   "source": [
    "%matplotlib inline\n",
    "import pandas\n",
    "from sklearn.model_selection import train_test_split\n",
    "import numpy as np\n",
    "import time"
   ]
  },
  {
   "cell_type": "markdown",
   "metadata": {},
   "source": [
    "# Ideas: \n",
    "\n",
    "1)Implement NDCG\n",
    "\n",
    "2)Plot Precision, NDCG vs K\n",
    "\n",
    "3)For test_set<k, implement a popularity model and fill with most popular songs"
   ]
  },
  {
   "cell_type": "code",
   "execution_count": 15,
   "metadata": {},
   "outputs": [],
   "source": [
    "#Read userid-songid-listen_count triplets\n",
    "#This step might take time to download data from external sources\n",
    "user_songs_lcount_file = 'https://static.turi.com/datasets/millionsong/10000.txt'\n",
    "songs_metadata_file = 'https://static.turi.com/datasets/millionsong/song_data.csv'\n",
    "\n",
    "user_songs_df = pandas.read_csv (user_songs_lcount_file,header=None, sep='\\t')\n",
    "user_songs_df.columns = ['user_id', 'song_id', 'listen_count']\n",
    "\n",
    "#Read song  metadata\n",
    "songs_metadata_df =  pandas.read_csv(songs_metadata_file)\n",
    "\n",
    "#Merge the two dataframes above to create input dataframe for recommender systems\n",
    "df_merge = pandas.merge(user_songs_df, songs_metadata_df.drop_duplicates(['song_id']), on=\"song_id\", how=\"left\") "
   ]
  },
  {
   "cell_type": "code",
   "execution_count": 16,
   "metadata": {},
   "outputs": [],
   "source": [
    "import numpy as np\n",
    "import math\n",
    "df_merge['listen_count'] =df_merge['listen_count'][df_merge['listen_count']!=0].apply(lambda x: 1+np.log10(x))"
   ]
  },
  {
   "cell_type": "code",
   "execution_count": 17,
   "metadata": {},
   "outputs": [
    {
     "data": {
      "text/html": [
       "<div>\n",
       "<style scoped>\n",
       "    .dataframe tbody tr th:only-of-type {\n",
       "        vertical-align: middle;\n",
       "    }\n",
       "\n",
       "    .dataframe tbody tr th {\n",
       "        vertical-align: top;\n",
       "    }\n",
       "\n",
       "    .dataframe thead th {\n",
       "        text-align: right;\n",
       "    }\n",
       "</style>\n",
       "<table border=\"1\" class=\"dataframe\">\n",
       "  <thead>\n",
       "    <tr style=\"text-align: right;\">\n",
       "      <th></th>\n",
       "      <th>user_id</th>\n",
       "      <th>song_id</th>\n",
       "      <th>listen_count</th>\n",
       "      <th>title</th>\n",
       "      <th>release</th>\n",
       "      <th>artist_name</th>\n",
       "      <th>year</th>\n",
       "    </tr>\n",
       "  </thead>\n",
       "  <tbody>\n",
       "    <tr>\n",
       "      <th>0</th>\n",
       "      <td>b80344d063b5ccb3212f76538f3d9e43d87dca9e</td>\n",
       "      <td>SOAKIMP12A8C130995</td>\n",
       "      <td>1.00000</td>\n",
       "      <td>The Cove</td>\n",
       "      <td>Thicker Than Water</td>\n",
       "      <td>Jack Johnson</td>\n",
       "      <td>0</td>\n",
       "    </tr>\n",
       "    <tr>\n",
       "      <th>1</th>\n",
       "      <td>b80344d063b5ccb3212f76538f3d9e43d87dca9e</td>\n",
       "      <td>SOBBMDR12A8C13253B</td>\n",
       "      <td>1.30103</td>\n",
       "      <td>Entre Dos Aguas</td>\n",
       "      <td>Flamenco Para Niños</td>\n",
       "      <td>Paco De Lucia</td>\n",
       "      <td>1976</td>\n",
       "    </tr>\n",
       "    <tr>\n",
       "      <th>2</th>\n",
       "      <td>b80344d063b5ccb3212f76538f3d9e43d87dca9e</td>\n",
       "      <td>SOBXHDL12A81C204C0</td>\n",
       "      <td>1.00000</td>\n",
       "      <td>Stronger</td>\n",
       "      <td>Graduation</td>\n",
       "      <td>Kanye West</td>\n",
       "      <td>2007</td>\n",
       "    </tr>\n",
       "    <tr>\n",
       "      <th>3</th>\n",
       "      <td>b80344d063b5ccb3212f76538f3d9e43d87dca9e</td>\n",
       "      <td>SOBYHAJ12A6701BF1D</td>\n",
       "      <td>1.00000</td>\n",
       "      <td>Constellations</td>\n",
       "      <td>In Between Dreams</td>\n",
       "      <td>Jack Johnson</td>\n",
       "      <td>2005</td>\n",
       "    </tr>\n",
       "    <tr>\n",
       "      <th>4</th>\n",
       "      <td>b80344d063b5ccb3212f76538f3d9e43d87dca9e</td>\n",
       "      <td>SODACBL12A8C13C273</td>\n",
       "      <td>1.00000</td>\n",
       "      <td>Learn To Fly</td>\n",
       "      <td>There Is Nothing Left To Lose</td>\n",
       "      <td>Foo Fighters</td>\n",
       "      <td>1999</td>\n",
       "    </tr>\n",
       "  </tbody>\n",
       "</table>\n",
       "</div>"
      ],
      "text/plain": [
       "                                    user_id             song_id  listen_count  \\\n",
       "0  b80344d063b5ccb3212f76538f3d9e43d87dca9e  SOAKIMP12A8C130995       1.00000   \n",
       "1  b80344d063b5ccb3212f76538f3d9e43d87dca9e  SOBBMDR12A8C13253B       1.30103   \n",
       "2  b80344d063b5ccb3212f76538f3d9e43d87dca9e  SOBXHDL12A81C204C0       1.00000   \n",
       "3  b80344d063b5ccb3212f76538f3d9e43d87dca9e  SOBYHAJ12A6701BF1D       1.00000   \n",
       "4  b80344d063b5ccb3212f76538f3d9e43d87dca9e  SODACBL12A8C13C273       1.00000   \n",
       "\n",
       "             title                        release    artist_name  year  \n",
       "0         The Cove             Thicker Than Water   Jack Johnson     0  \n",
       "1  Entre Dos Aguas            Flamenco Para Niños  Paco De Lucia  1976  \n",
       "2         Stronger                     Graduation     Kanye West  2007  \n",
       "3   Constellations              In Between Dreams   Jack Johnson  2005  \n",
       "4     Learn To Fly  There Is Nothing Left To Lose   Foo Fighters  1999  "
      ]
     },
     "execution_count": 17,
     "metadata": {},
     "output_type": "execute_result"
    }
   ],
   "source": [
    "df_merge.head()"
   ]
  },
  {
   "cell_type": "code",
   "execution_count": 18,
   "metadata": {},
   "outputs": [
    {
     "data": {
      "text/html": [
       "<div>\n",
       "<style scoped>\n",
       "    .dataframe tbody tr th:only-of-type {\n",
       "        vertical-align: middle;\n",
       "    }\n",
       "\n",
       "    .dataframe tbody tr th {\n",
       "        vertical-align: top;\n",
       "    }\n",
       "\n",
       "    .dataframe thead th {\n",
       "        text-align: right;\n",
       "    }\n",
       "</style>\n",
       "<table border=\"1\" class=\"dataframe\">\n",
       "  <thead>\n",
       "    <tr style=\"text-align: right;\">\n",
       "      <th></th>\n",
       "      <th>song_id</th>\n",
       "      <th>title</th>\n",
       "      <th>release</th>\n",
       "      <th>artist_name</th>\n",
       "      <th>year</th>\n",
       "    </tr>\n",
       "  </thead>\n",
       "  <tbody>\n",
       "    <tr>\n",
       "      <th>0</th>\n",
       "      <td>SOQMMHC12AB0180CB8</td>\n",
       "      <td>Silent Night</td>\n",
       "      <td>Monster Ballads X-Mas</td>\n",
       "      <td>Faster Pussy cat</td>\n",
       "      <td>2003</td>\n",
       "    </tr>\n",
       "    <tr>\n",
       "      <th>1</th>\n",
       "      <td>SOVFVAK12A8C1350D9</td>\n",
       "      <td>Tanssi vaan</td>\n",
       "      <td>Karkuteillä</td>\n",
       "      <td>Karkkiautomaatti</td>\n",
       "      <td>1995</td>\n",
       "    </tr>\n",
       "    <tr>\n",
       "      <th>2</th>\n",
       "      <td>SOGTUKN12AB017F4F1</td>\n",
       "      <td>No One Could Ever</td>\n",
       "      <td>Butter</td>\n",
       "      <td>Hudson Mohawke</td>\n",
       "      <td>2006</td>\n",
       "    </tr>\n",
       "    <tr>\n",
       "      <th>3</th>\n",
       "      <td>SOBNYVR12A8C13558C</td>\n",
       "      <td>Si Vos Querés</td>\n",
       "      <td>De Culo</td>\n",
       "      <td>Yerba Brava</td>\n",
       "      <td>2003</td>\n",
       "    </tr>\n",
       "    <tr>\n",
       "      <th>4</th>\n",
       "      <td>SOHSBXH12A8C13B0DF</td>\n",
       "      <td>Tangle Of Aspens</td>\n",
       "      <td>Rene Ablaze Presents Winter Sessions</td>\n",
       "      <td>Der Mystic</td>\n",
       "      <td>0</td>\n",
       "    </tr>\n",
       "  </tbody>\n",
       "</table>\n",
       "</div>"
      ],
      "text/plain": [
       "              song_id              title  \\\n",
       "0  SOQMMHC12AB0180CB8       Silent Night   \n",
       "1  SOVFVAK12A8C1350D9        Tanssi vaan   \n",
       "2  SOGTUKN12AB017F4F1  No One Could Ever   \n",
       "3  SOBNYVR12A8C13558C      Si Vos Querés   \n",
       "4  SOHSBXH12A8C13B0DF   Tangle Of Aspens   \n",
       "\n",
       "                                release       artist_name  year  \n",
       "0                 Monster Ballads X-Mas  Faster Pussy cat  2003  \n",
       "1                           Karkuteillä  Karkkiautomaatti  1995  \n",
       "2                                Butter    Hudson Mohawke  2006  \n",
       "3                               De Culo       Yerba Brava  2003  \n",
       "4  Rene Ablaze Presents Winter Sessions        Der Mystic     0  "
      ]
     },
     "execution_count": 18,
     "metadata": {},
     "output_type": "execute_result"
    }
   ],
   "source": [
    "songs_metadata_df.head()"
   ]
  },
  {
   "cell_type": "code",
   "execution_count": 19,
   "metadata": {},
   "outputs": [
    {
     "data": {
      "text/html": [
       "<div>\n",
       "<style scoped>\n",
       "    .dataframe tbody tr th:only-of-type {\n",
       "        vertical-align: middle;\n",
       "    }\n",
       "\n",
       "    .dataframe tbody tr th {\n",
       "        vertical-align: top;\n",
       "    }\n",
       "\n",
       "    .dataframe thead th {\n",
       "        text-align: right;\n",
       "    }\n",
       "</style>\n",
       "<table border=\"1\" class=\"dataframe\">\n",
       "  <thead>\n",
       "    <tr style=\"text-align: right;\">\n",
       "      <th></th>\n",
       "      <th>user_id</th>\n",
       "      <th>song_id</th>\n",
       "      <th>listen_count</th>\n",
       "      <th>title</th>\n",
       "      <th>release</th>\n",
       "      <th>artist_name</th>\n",
       "      <th>year</th>\n",
       "    </tr>\n",
       "  </thead>\n",
       "  <tbody>\n",
       "    <tr>\n",
       "      <th>608812</th>\n",
       "      <td>7b8fbe766a49e5d7618452149dfab920621fc4fb</td>\n",
       "      <td>SOJJYDE12AF729FC16</td>\n",
       "      <td>1.00000</td>\n",
       "      <td>Two Is Better Than One</td>\n",
       "      <td>Love Drunk</td>\n",
       "      <td>Boys Like Girls featuring Taylor Swift</td>\n",
       "      <td>2009</td>\n",
       "    </tr>\n",
       "    <tr>\n",
       "      <th>623729</th>\n",
       "      <td>d24956cd68ff84b6d0271286ae6866ee1c89ff77</td>\n",
       "      <td>SOPQGWI12A8C135DDB</td>\n",
       "      <td>1.30103</td>\n",
       "      <td>Royal Gregory</td>\n",
       "      <td>LP</td>\n",
       "      <td>Holy Fuck</td>\n",
       "      <td>2007</td>\n",
       "    </tr>\n",
       "    <tr>\n",
       "      <th>583106</th>\n",
       "      <td>da7b91b6cab1ca11227ee7720c4d2e03e8c31579</td>\n",
       "      <td>SOCOIIG12A58A7D151</td>\n",
       "      <td>1.00000</td>\n",
       "      <td>Mr Sandman</td>\n",
       "      <td>Original Hits - 50s</td>\n",
       "      <td>The Chordettes</td>\n",
       "      <td>1993</td>\n",
       "    </tr>\n",
       "    <tr>\n",
       "      <th>435735</th>\n",
       "      <td>5f633da6ad4845350949c3c76ce6c4ef6f167476</td>\n",
       "      <td>SOQQTBB12AB0182F1D</td>\n",
       "      <td>1.30103</td>\n",
       "      <td>A Days Work (feat. P.O.S)</td>\n",
       "      <td>Rádio do Canibal</td>\n",
       "      <td>BK-One</td>\n",
       "      <td>0</td>\n",
       "    </tr>\n",
       "    <tr>\n",
       "      <th>1361953</th>\n",
       "      <td>01ad0fabd01af750700a1e80bb0055abcb3edd28</td>\n",
       "      <td>SOVYNVS12AC3DF64AB</td>\n",
       "      <td>1.30103</td>\n",
       "      <td>Rockin' Rollin' Stone</td>\n",
       "      <td>100 Greatest Rockabilly Hits</td>\n",
       "      <td>Andy Starr</td>\n",
       "      <td>2000</td>\n",
       "    </tr>\n",
       "  </tbody>\n",
       "</table>\n",
       "</div>"
      ],
      "text/plain": [
       "                                          user_id             song_id  \\\n",
       "608812   7b8fbe766a49e5d7618452149dfab920621fc4fb  SOJJYDE12AF729FC16   \n",
       "623729   d24956cd68ff84b6d0271286ae6866ee1c89ff77  SOPQGWI12A8C135DDB   \n",
       "583106   da7b91b6cab1ca11227ee7720c4d2e03e8c31579  SOCOIIG12A58A7D151   \n",
       "435735   5f633da6ad4845350949c3c76ce6c4ef6f167476  SOQQTBB12AB0182F1D   \n",
       "1361953  01ad0fabd01af750700a1e80bb0055abcb3edd28  SOVYNVS12AC3DF64AB   \n",
       "\n",
       "         listen_count                      title  \\\n",
       "608812        1.00000     Two Is Better Than One   \n",
       "623729        1.30103              Royal Gregory   \n",
       "583106        1.00000                 Mr Sandman   \n",
       "435735        1.30103  A Days Work (feat. P.O.S)   \n",
       "1361953       1.30103      Rockin' Rollin' Stone   \n",
       "\n",
       "                              release                             artist_name  \\\n",
       "608812                     Love Drunk  Boys Like Girls featuring Taylor Swift   \n",
       "623729                             LP                               Holy Fuck   \n",
       "583106            Original Hits - 50s                          The Chordettes   \n",
       "435735               Rádio do Canibal                                  BK-One   \n",
       "1361953  100 Greatest Rockabilly Hits                              Andy Starr   \n",
       "\n",
       "         year  \n",
       "608812   2009  \n",
       "623729   2007  \n",
       "583106   1993  \n",
       "435735      0  \n",
       "1361953  2000  "
      ]
     },
     "execution_count": 19,
     "metadata": {},
     "output_type": "execute_result"
    }
   ],
   "source": [
    "train_data, test_data = train_test_split(df_merge, test_size = 0.20, random_state=0)\n",
    "(train_data.head(5))"
   ]
  },
  {
   "cell_type": "code",
   "execution_count": 20,
   "metadata": {},
   "outputs": [
    {
     "data": {
      "text/html": [
       "<div>\n",
       "<style scoped>\n",
       "    .dataframe tbody tr th:only-of-type {\n",
       "        vertical-align: middle;\n",
       "    }\n",
       "\n",
       "    .dataframe tbody tr th {\n",
       "        vertical-align: top;\n",
       "    }\n",
       "\n",
       "    .dataframe thead th {\n",
       "        text-align: right;\n",
       "    }\n",
       "</style>\n",
       "<table border=\"1\" class=\"dataframe\">\n",
       "  <thead>\n",
       "    <tr style=\"text-align: right;\">\n",
       "      <th></th>\n",
       "      <th>user_id</th>\n",
       "      <th>song_id</th>\n",
       "      <th>listen_count</th>\n",
       "      <th>title</th>\n",
       "      <th>release</th>\n",
       "      <th>artist_name</th>\n",
       "      <th>year</th>\n",
       "    </tr>\n",
       "  </thead>\n",
       "  <tbody>\n",
       "    <tr>\n",
       "      <th>1319600</th>\n",
       "      <td>bba304c2ed4ef5ae8f15fd4fca4a694cf6c0e8a0</td>\n",
       "      <td>SORVKCB12AB0188D90</td>\n",
       "      <td>1.301030</td>\n",
       "      <td>Big Calm</td>\n",
       "      <td>Big Calm</td>\n",
       "      <td>Morcheeba</td>\n",
       "      <td>1998</td>\n",
       "    </tr>\n",
       "    <tr>\n",
       "      <th>1697773</th>\n",
       "      <td>da5d0afc724e7d63b9e90552a4d148fcce94e97e</td>\n",
       "      <td>SOGJMJH12A6702154D</td>\n",
       "      <td>1.000000</td>\n",
       "      <td>Closer</td>\n",
       "      <td>The Downward Spiral</td>\n",
       "      <td>Nine Inch Nails</td>\n",
       "      <td>1994</td>\n",
       "    </tr>\n",
       "    <tr>\n",
       "      <th>742836</th>\n",
       "      <td>4e23d4c1111c206e2dc0984c9d1b2e3bff510482</td>\n",
       "      <td>SOAXGDH12A8C13F8A1</td>\n",
       "      <td>1.000000</td>\n",
       "      <td>Dog Days Are Over (Radio Edit)</td>\n",
       "      <td>Now That's What I Call Music! 75</td>\n",
       "      <td>Florence + The Machine</td>\n",
       "      <td>0</td>\n",
       "    </tr>\n",
       "    <tr>\n",
       "      <th>114563</th>\n",
       "      <td>2109f4ce04660f2d92d7bc36b0c221d171172d6b</td>\n",
       "      <td>SOMWASN12A6D4F72B3</td>\n",
       "      <td>1.477121</td>\n",
       "      <td>Bricks</td>\n",
       "      <td>The Sufferer &amp; The Witness</td>\n",
       "      <td>Rise Against</td>\n",
       "      <td>2006</td>\n",
       "    </tr>\n",
       "    <tr>\n",
       "      <th>236686</th>\n",
       "      <td>74e3254cb58a35de657126e9e2f61b474857ff0f</td>\n",
       "      <td>SOYGHUM12AB018139C</td>\n",
       "      <td>1.602060</td>\n",
       "      <td>Bad Company</td>\n",
       "      <td>War Is The Answer</td>\n",
       "      <td>Five Finger Death Punch</td>\n",
       "      <td>2009</td>\n",
       "    </tr>\n",
       "  </tbody>\n",
       "</table>\n",
       "</div>"
      ],
      "text/plain": [
       "                                          user_id             song_id  \\\n",
       "1319600  bba304c2ed4ef5ae8f15fd4fca4a694cf6c0e8a0  SORVKCB12AB0188D90   \n",
       "1697773  da5d0afc724e7d63b9e90552a4d148fcce94e97e  SOGJMJH12A6702154D   \n",
       "742836   4e23d4c1111c206e2dc0984c9d1b2e3bff510482  SOAXGDH12A8C13F8A1   \n",
       "114563   2109f4ce04660f2d92d7bc36b0c221d171172d6b  SOMWASN12A6D4F72B3   \n",
       "236686   74e3254cb58a35de657126e9e2f61b474857ff0f  SOYGHUM12AB018139C   \n",
       "\n",
       "         listen_count                           title  \\\n",
       "1319600      1.301030                        Big Calm   \n",
       "1697773      1.000000                          Closer   \n",
       "742836       1.000000  Dog Days Are Over (Radio Edit)   \n",
       "114563       1.477121                          Bricks   \n",
       "236686       1.602060                     Bad Company   \n",
       "\n",
       "                                  release              artist_name  year  \n",
       "1319600                          Big Calm                Morcheeba  1998  \n",
       "1697773               The Downward Spiral          Nine Inch Nails  1994  \n",
       "742836   Now That's What I Call Music! 75   Florence + The Machine     0  \n",
       "114563         The Sufferer & The Witness             Rise Against  2006  \n",
       "236686                  War Is The Answer  Five Finger Death Punch  2009  "
      ]
     },
     "execution_count": 20,
     "metadata": {},
     "output_type": "execute_result"
    }
   ],
   "source": [
    "test_data.head()"
   ]
  },
  {
   "cell_type": "code",
   "execution_count": 21,
   "metadata": {},
   "outputs": [],
   "source": [
    "ground_truth = list(test_data['listen_count'])"
   ]
  },
  {
   "cell_type": "code",
   "execution_count": 10,
   "metadata": {},
   "outputs": [],
   "source": [
    "from surprise import SVD\n",
    "from surprise import SVDpp\n",
    "from surprise import Dataset\n",
    "from surprise import Reader\n",
    "from surprise.model_selection import cross_validate\n",
    "reader = Reader(rating_scale=(1, 10))"
   ]
  },
  {
   "cell_type": "code",
   "execution_count": 11,
   "metadata": {},
   "outputs": [],
   "source": [
    "train_dataSVD = Dataset.load_from_df(train_data[['user_id', 'song_id', 'listen_count']], reader)\n",
    "test_dataSVD = Dataset.load_from_df(test_data[['user_id', 'song_id', 'listen_count']], reader)"
   ]
  },
  {
   "cell_type": "code",
   "execution_count": 12,
   "metadata": {},
   "outputs": [],
   "source": [
    "trainset = train_dataSVD.build_full_trainset()"
   ]
  },
  {
   "cell_type": "code",
   "execution_count": 13,
   "metadata": {},
   "outputs": [],
   "source": [
    "algo1= SVD()\n",
    "algo2 = SVDpp()"
   ]
  },
  {
   "cell_type": "code",
   "execution_count": 14,
   "metadata": {},
   "outputs": [
    {
     "data": {
      "text/plain": [
       "<surprise.prediction_algorithms.matrix_factorization.SVD at 0x1b810b3f2e8>"
      ]
     },
     "execution_count": 14,
     "metadata": {},
     "output_type": "execute_result"
    }
   ],
   "source": [
    "algo1.fit(trainset)"
   ]
  },
  {
   "cell_type": "code",
   "execution_count": 15,
   "metadata": {},
   "outputs": [
    {
     "data": {
      "text/plain": [
       "<surprise.prediction_algorithms.matrix_factorization.SVDpp at 0x1b810b3f9e8>"
      ]
     },
     "execution_count": 15,
     "metadata": {},
     "output_type": "execute_result"
    }
   ],
   "source": [
    "algo2.fit(trainset)"
   ]
  },
  {
   "cell_type": "code",
   "execution_count": 13,
   "metadata": {},
   "outputs": [],
   "source": [
    "from sklearn.metrics import mean_squared_error\n",
    "from sklearn.metrics import mean_absolute_error\n",
    "from math import sqrt\n",
    "def find_RMS(y_predicted,y_actual):\n",
    "    return sqrt(mean_squared_error(y_actual, y_predicted))\n",
    "\n",
    "def find_MAE(y_predicted, y_actual):\n",
    "    return mean_absolute_error(y_actual,y_predicted)\n"
   ]
  },
  {
   "cell_type": "code",
   "execution_count": 22,
   "metadata": {},
   "outputs": [],
   "source": [
    "def predict(algo, name):\n",
    "    prediction= [algo.predict(row['user_id'], row['song_id'], verbose=False).est for index,row in test_data.iterrows()]\n",
    "    print(\"RMS Error for\", name, \" is \",find_RMS(prediction,ground_truth))\n",
    "    print(\"MAE Error for\", name, \" is \",find_MAE(prediction,ground_truth))\n",
    "    return prediction"
   ]
  },
  {
   "cell_type": "code",
   "execution_count": 23,
   "metadata": {},
   "outputs": [
    {
     "name": "stdout",
     "output_type": "stream",
     "text": [
      "RMS Error for SVD  is  0.32259055548269383\n",
      "MAE Error for SVD  is  0.24682773235930977\n"
     ]
    }
   ],
   "source": [
    "predictSVD= predict(algo1, 'SVD')"
   ]
  },
  {
   "cell_type": "code",
   "execution_count": 27,
   "metadata": {},
   "outputs": [],
   "source": [
    "import pickle\n",
    "pickle.dump( predictSVD, open( \"svd.p\", \"wb\" ) )"
   ]
  },
  {
   "cell_type": "code",
   "execution_count": 28,
   "metadata": {},
   "outputs": [
    {
     "name": "stdout",
     "output_type": "stream",
     "text": [
      "RMS Error for SVDPP  is  0.31725306402477366\n",
      "MAE Error for SVDPP  is  0.24182494124705559\n"
     ]
    }
   ],
   "source": [
    "predictSVDPP=predict(algo2, 'SVDPP')"
   ]
  },
  {
   "cell_type": "code",
   "execution_count": 29,
   "metadata": {},
   "outputs": [],
   "source": [
    "pickle.dump( predictSVDPP, open( \"svdpp.p\", \"wb\" ))"
   ]
  },
  {
   "cell_type": "code",
   "execution_count": 23,
   "metadata": {},
   "outputs": [],
   "source": [
    "def findUSerCounts(df):\n",
    "    user_counts={}\n",
    "    for index,row in df.iterrows():\n",
    "        ui = row['user_id']\n",
    "        song= row['song_id']\n",
    "        count= row ['listen_count']\n",
    "        if ui not in user_counts:\n",
    "            user_counts[ui]={}\n",
    "        user_counts[ui][song]= count\n",
    "    return user_counts"
   ]
  },
  {
   "cell_type": "code",
   "execution_count": 31,
   "metadata": {},
   "outputs": [],
   "source": [
    "predict_data_SVD = test_data.copy()\n",
    "predict_data_SVD['listen_count']= predictSVD"
   ]
  },
  {
   "cell_type": "code",
   "execution_count": 32,
   "metadata": {},
   "outputs": [],
   "source": [
    "predict_data_SVDPP = test_data.copy()\n",
    "predict_data_SVDPP['listen_count']= predictSVDPP"
   ]
  },
  {
   "cell_type": "code",
   "execution_count": 33,
   "metadata": {},
   "outputs": [],
   "source": [
    "predict_user_dict_SVD= findUSerCounts(predict_data_SVD)"
   ]
  },
  {
   "cell_type": "code",
   "execution_count": 34,
   "metadata": {},
   "outputs": [],
   "source": [
    "predict_user_dict_SVDPP= findUSerCounts(predict_data_SVDPP)"
   ]
  },
  {
   "cell_type": "code",
   "execution_count": 34,
   "metadata": {},
   "outputs": [],
   "source": [
    "test_user_dict=findUSerCounts(test_data)"
   ]
  },
  {
   "cell_type": "code",
   "execution_count": 24,
   "metadata": {},
   "outputs": [],
   "source": [
    "def findTopKSongUser(user, df,k ):\n",
    "    user_dict= df[user]\n",
    "    top= sorted(user_dict.items(), key=lambda x: x[1], reverse=True)\n",
    "    topk_songs= [el[0] for el in top[:k]]\n",
    "    return topk_songs"
   ]
  },
  {
   "cell_type": "code",
   "execution_count": 42,
   "metadata": {},
   "outputs": [],
   "source": [
    "k=10"
   ]
  },
  {
   "cell_type": "code",
   "execution_count": 25,
   "metadata": {},
   "outputs": [],
   "source": [
    "def print_names(songs_list):\n",
    "    titles=[]\n",
    "    for song in songs_list:\n",
    "        new_df=songs_metadata_df.loc[songs_metadata_df.song_id==song].values\n",
    "        title=new_df[0,1]+' - '+new_df[0,2]\n",
    "        print(title)\n",
    "        titles.append(title)\n",
    "    return titles"
   ]
  },
  {
   "cell_type": "code",
   "execution_count": 44,
   "metadata": {},
   "outputs": [
    {
     "name": "stdout",
     "output_type": "stream",
     "text": [
      "Old Man Time (Album Version) - In Between Now And Then\n",
      "Who's Real - The Last Kiss\n",
      "The Way I Feel (Not Our Master) - 12 Stones\n",
      "Con Mis Manos - Pafuera Telarañas\n",
      "Me & Mr Jones - Me & Mr Jones\n",
      "Constellations - In Between Dreams\n",
      "If I Could - In Between Dreams\n",
      "Do You Remember - In Between Dreams\n",
      "Beautiful Morning - Da Capo\n",
      "Sandman - Here & Now\n"
     ]
    }
   ],
   "source": [
    "topk_pred_user_SVD= findTopKSongUser ('bba304c2ed4ef5ae8f15fd4fca4a694cf6c0e8a0',predict_user_dict_SVD,k )\n",
    "titles=print_names(topk_pred_user_SVD)"
   ]
  },
  {
   "cell_type": "code",
   "execution_count": 45,
   "metadata": {},
   "outputs": [
    {
     "name": "stdout",
     "output_type": "stream",
     "text": [
      "Part Of The Process - Parts Of The Process\n",
      "Alala (Album) - Cansei De Ser Sexy\n",
      "Sandman - Here & Now\n",
      "Con Mis Manos - Pafuera Telarañas\n",
      "Big Calm - Big Calm\n",
      "Fear And Love - Big Calm\n",
      "Do You Remember - In Between Dreams\n",
      "Who's Real - The Last Kiss\n",
      "Constellations - In Between Dreams\n",
      "If I Could - In Between Dreams\n"
     ]
    }
   ],
   "source": [
    "\n",
    "topk_test_user= findTopKSongUser ('bba304c2ed4ef5ae8f15fd4fca4a694cf6c0e8a0',test_user_dict,k )\n",
    "titles=print_names(topk_test_user)"
   ]
  },
  {
   "cell_type": "code",
   "execution_count": 26,
   "metadata": {},
   "outputs": [],
   "source": [
    "def findTopKSongs(user_dic,k):\n",
    "    user_topKsongs= {}\n",
    "    for user in user_dic.keys():\n",
    "        user_topKsongs[user]= findTopKSongUser(user,user_dic,k)\n",
    "    return user_topKsongs\n",
    "    "
   ]
  },
  {
   "cell_type": "code",
   "execution_count": 47,
   "metadata": {},
   "outputs": [],
   "source": [
    "topksongs_pred_SVD= findTopKSongs(predict_user_dict_SVD,k)\n"
   ]
  },
  {
   "cell_type": "code",
   "execution_count": 49,
   "metadata": {},
   "outputs": [],
   "source": [
    "topksongs_pred_SVDPP= findTopKSongs(predict_user_dict_SVDPP,k)\n"
   ]
  },
  {
   "cell_type": "code",
   "execution_count": 35,
   "metadata": {},
   "outputs": [],
   "source": [
    "topksongs_test= findTopKSongs(test_user_dict,k)\n"
   ]
  },
  {
   "cell_type": "code",
   "execution_count": 27,
   "metadata": {},
   "outputs": [],
   "source": [
    "def findPrecision_user(pred_user,test_user,k):\n",
    "    tp=len(list(set(pred_user[:k]).intersection(test_user[:k])))\n",
    "    precision= tp/min(k,len(test_user))\n",
    "    #recall= tp/len(test)\n",
    "    #print('precision is :',precision )\n",
    "    #print('recall is :', recall)\n",
    "    return precision\n",
    "        "
   ]
  },
  {
   "cell_type": "code",
   "execution_count": 78,
   "metadata": {},
   "outputs": [],
   "source": [
    "precision_user= findPrecision_user(topk_pred_user_SVD,topk_test_user,k)"
   ]
  },
  {
   "cell_type": "code",
   "execution_count": 79,
   "metadata": {},
   "outputs": [
    {
     "name": "stdout",
     "output_type": "stream",
     "text": [
      "0.6\n"
     ]
    }
   ],
   "source": [
    "print(precision_user)"
   ]
  },
  {
   "cell_type": "code",
   "execution_count": 28,
   "metadata": {},
   "outputs": [],
   "source": [
    "def order_songs(user, df ):\n",
    "    sort_list= (sorted(df[user].items(), key=lambda x: x[1], reverse=True))\n",
    "    return sort_list, dict(sort_list)\n",
    "\n",
    "def find_test_relscores(dic):\n",
    "    rel_scores_list={}\n",
    "    rel_scores_dic={}\n",
    "    for user in dic.keys():\n",
    "        rel_scores_list[user],rel_scores_dic[user]=order_songs(user,dic)   \n",
    "    return rel_scores_list,rel_scores_dic\n",
    "    "
   ]
  },
  {
   "cell_type": "code",
   "execution_count": 37,
   "metadata": {},
   "outputs": [],
   "source": [
    "test_rel_scores_list,test_rel_scores_dict = find_test_relscores(test_user_dict)\n"
   ]
  },
  {
   "cell_type": "code",
   "execution_count": 29,
   "metadata": {},
   "outputs": [],
   "source": [
    "def find_NDCG_user(klist_pred,klist_test,rankdict):\n",
    "    \n",
    "    #dcgk\n",
    "    dcg=sum(sum( ((rankdict[el] if el in rankdict else 0 )/ np.log2(np.arange(2, len(klist_pred) + 2))) for el in klist_pred))\n",
    "    #print('dcg :', dcg)\n",
    "    idcg= sum(sum( (np.power(2, rankdict[el] if el in rankdict else 0) - 1) / np.log2(np.arange(2, len(klist_test) + 2)) for el in klist_test))\n",
    "    #print('idcg :', idcg)\n",
    "    return dcg/idcg"
   ]
  },
  {
   "cell_type": "code",
   "execution_count": 83,
   "metadata": {},
   "outputs": [
    {
     "data": {
      "text/plain": [
       "0.7518235747603215"
      ]
     },
     "execution_count": 83,
     "metadata": {},
     "output_type": "execute_result"
    }
   ],
   "source": [
    "find_NDCG_user(topk_pred_user_SVD,topk_test_user,test_rel_scores_dict['bba304c2ed4ef5ae8f15fd4fca4a694cf6c0e8a0'])"
   ]
  },
  {
   "cell_type": "code",
   "execution_count": 30,
   "metadata": {},
   "outputs": [],
   "source": [
    "def evaluate(pred, test,k,scores_dict): \n",
    "    #print('k is ',k)\n",
    "    avg_precision= np.mean(list(findPrecision_user(pred[user],test[user],k) for user in test.keys()))\n",
    "    #print('Average precision is:',avg_precision )\n",
    "    avg_ndcg= np.mean(list(find_NDCG_user(pred[user][:k],test[user][:k],scores_dict[user]) for user in test.keys()))\n",
    "    #print('Average NDCG is:',avg_ndcg )\n",
    "    return avg_precision,avg_ndcg"
   ]
  },
  {
   "cell_type": "code",
   "execution_count": 90,
   "metadata": {},
   "outputs": [
    {
     "name": "stdout",
     "output_type": "stream",
     "text": [
      "Average precision is: 0.8551436488260171\n",
      "Average NDCG is: 0.8384448190239389\n"
     ]
    }
   ],
   "source": [
    "precision_SVD,ndcg_SVD= evaluate(topksongs_pred_SVD,topksongs_test,5,test_rel_scores_dict)\n",
    "print('Average precision is:',precision_SVD )\n",
    "print('Average NDCG is:',ndcg_SVD )"
   ]
  },
  {
   "cell_type": "code",
   "execution_count": 91,
   "metadata": {},
   "outputs": [
    {
     "name": "stdout",
     "output_type": "stream",
     "text": [
      "Average precision is: 0.8575061980457926\n",
      "Average NDCG is: 0.8395972319455253\n"
     ]
    }
   ],
   "source": [
    "precision_SVDPP,ndcg_SVDPP= evaluate(topksongs_pred_SVDPP,topksongs_test,5,test_rel_scores_dict)\n",
    "print('Average precision is:',precision_SVDPP )\n",
    "print('Average NDCG is:',ndcg_SVDPP )"
   ]
  },
  {
   "cell_type": "code",
   "execution_count": 31,
   "metadata": {},
   "outputs": [],
   "source": [
    "def eval_model(pred_user_dict,act_user_dict,rank_dic,krange):\n",
    "    prec_list=[]\n",
    "    ndcg_list=[]\n",
    "    for kval in krange:\n",
    "        topksongs_pr= findTopKSongs(pred_user_dict,kval)\n",
    "        topksongs_ac= findTopKSongs(act_user_dict,kval)\n",
    "        precision,ndcg = evaluate(topksongs_pr,topksongs_ac,kval,rank_dic)\n",
    "        prec_list.append(precision)\n",
    "        ndcg_list.append(ndcg)\n",
    "    return prec_list,ndcg_list\n"
   ]
  },
  {
   "cell_type": "code",
   "execution_count": 93,
   "metadata": {},
   "outputs": [],
   "source": [
    "krange= list(range(2,15))\n",
    "precision_vals_SVD, ndcg_vals_SVD= eval_model(predict_user_dict_SVD,test_user_dict,test_rel_scores_dict,krange)"
   ]
  },
  {
   "cell_type": "code",
   "execution_count": 95,
   "metadata": {},
   "outputs": [
    {
     "data": {
      "image/png": "[encoded data removed]",
      "text/plain": [
       "<Figure size 432x288 with 1 Axes>"
      ]
     },
     "metadata": {
      "needs_background": "light"
     },
     "output_type": "display_data"
    }
   ],
   "source": [
    "import matplotlib.pyplot as plt\n",
    "plt.plot(np.array(krange),np.array(precision_vals_SVD))\n",
    "plt.show()"
   ]
  },
  {
   "cell_type": "code",
   "execution_count": 96,
   "metadata": {},
   "outputs": [
    {
     "data": {
      "image/png": "[encoded data removed]",
      "text/plain": [
       "<Figure size 432x288 with 1 Axes>"
      ]
     },
     "metadata": {
      "needs_background": "light"
     },
     "output_type": "display_data"
    }
   ],
   "source": [
    "plt.plot(np.array(krange),np.array(ndcg_vals_SVD))\n",
    "plt.show()"
   ]
  },
  {
   "cell_type": "code",
   "execution_count": 120,
   "metadata": {},
   "outputs": [],
   "source": [
    "precision_vals_SVDPP, ndcg_vals_SVDPP= eval_model(predict_user_dict_SVDPP,test_user_dict,test_rel_scores_dict,krange)"
   ]
  },
  {
   "cell_type": "code",
   "execution_count": 121,
   "metadata": {},
   "outputs": [
    {
     "data": {
      "image/png": "[encoded data removed]",
      "text/plain": [
       "<Figure size 432x288 with 1 Axes>"
      ]
     },
     "metadata": {
      "needs_background": "light"
     },
     "output_type": "display_data"
    }
   ],
   "source": [
    "import matplotlib.pyplot as plt\n",
    "plt.plot(np.array(krange),np.array(precision_vals_SVDPP))\n",
    "plt.show()"
   ]
  },
  {
   "cell_type": "code",
   "execution_count": 122,
   "metadata": {},
   "outputs": [
    {
     "data": {
      "image/png": "[encoded data removed]",
      "text/plain": [
       "<Figure size 432x288 with 1 Axes>"
      ]
     },
     "metadata": {
      "needs_background": "light"
     },
     "output_type": "display_data"
    }
   ],
   "source": [
    "plt.plot(np.array(krange),np.array(ndcg_vals_SVDPP))\n",
    "plt.show()"
   ]
  },
  {
   "cell_type": "markdown",
   "metadata": {
    "collapsed": true
   },
   "source": [
    "## Popularity Based Model"
   ]
  },
  {
   "cell_type": "code",
   "execution_count": 112,
   "metadata": {},
   "outputs": [
    {
     "ename": "KeyboardInterrupt",
     "evalue": "",
     "output_type": "error",
     "traceback": [
      "\u001b[1;31m---------------------------------------------------------------------------\u001b[0m",
      "\u001b[1;31mKeyboardInterrupt\u001b[0m                         Traceback (most recent call last)",
      "\u001b[1;32m<ipython-input-112-11076a205060>\u001b[0m in \u001b[0;36m<module>\u001b[1;34m\u001b[0m\n\u001b[0;32m      1\u001b[0m \u001b[0msong_tot_count\u001b[0m \u001b[1;33m=\u001b[0m\u001b[1;33m{\u001b[0m\u001b[1;33m}\u001b[0m\u001b[1;33m\u001b[0m\u001b[1;33m\u001b[0m\u001b[0m\n\u001b[0;32m      2\u001b[0m \u001b[1;32mfor\u001b[0m \u001b[0msong\u001b[0m \u001b[1;32min\u001b[0m \u001b[0mlist\u001b[0m\u001b[1;33m(\u001b[0m\u001b[0mtrain_data\u001b[0m\u001b[1;33m[\u001b[0m\u001b[1;34m'song_id'\u001b[0m\u001b[1;33m]\u001b[0m\u001b[1;33m.\u001b[0m\u001b[0munique\u001b[0m\u001b[1;33m(\u001b[0m\u001b[1;33m)\u001b[0m\u001b[1;33m)\u001b[0m\u001b[1;33m:\u001b[0m\u001b[1;33m\u001b[0m\u001b[1;33m\u001b[0m\u001b[0m\n\u001b[1;32m----> 3\u001b[1;33m     \u001b[0msong_tot_count\u001b[0m\u001b[1;33m[\u001b[0m\u001b[0msong\u001b[0m\u001b[1;33m]\u001b[0m\u001b[1;33m=\u001b[0m \u001b[0mnp\u001b[0m\u001b[1;33m.\u001b[0m\u001b[0msum\u001b[0m\u001b[1;33m(\u001b[0m\u001b[0mtrain_data\u001b[0m\u001b[1;33m.\u001b[0m\u001b[0mloc\u001b[0m\u001b[1;33m[\u001b[0m\u001b[0mtrain_data\u001b[0m\u001b[1;33m.\u001b[0m\u001b[0msong_id\u001b[0m\u001b[1;33m==\u001b[0m\u001b[0msong\u001b[0m\u001b[1;33m]\u001b[0m\u001b[1;33m[\u001b[0m\u001b[1;34m'listen_count'\u001b[0m\u001b[1;33m]\u001b[0m\u001b[1;33m)\u001b[0m\u001b[1;33m\u001b[0m\u001b[1;33m\u001b[0m\u001b[0m\n\u001b[0m",
      "\u001b[1;32m~\\Anaconda3_new\\lib\\site-packages\\pandas\\core\\ops.py\u001b[0m in \u001b[0;36mwrapper\u001b[1;34m(self, other, axis)\u001b[0m\n\u001b[0;32m   1764\u001b[0m \u001b[1;33m\u001b[0m\u001b[0m\n\u001b[0;32m   1765\u001b[0m             \u001b[1;32mwith\u001b[0m \u001b[0mnp\u001b[0m\u001b[1;33m.\u001b[0m\u001b[0merrstate\u001b[0m\u001b[1;33m(\u001b[0m\u001b[0mall\u001b[0m\u001b[1;33m=\u001b[0m\u001b[1;34m'ignore'\u001b[0m\u001b[1;33m)\u001b[0m\u001b[1;33m:\u001b[0m\u001b[1;33m\u001b[0m\u001b[1;33m\u001b[0m\u001b[0m\n\u001b[1;32m-> 1766\u001b[1;33m                 \u001b[0mres\u001b[0m \u001b[1;33m=\u001b[0m \u001b[0mna_op\u001b[0m\u001b[1;33m(\u001b[0m\u001b[0mvalues\u001b[0m\u001b[1;33m,\u001b[0m \u001b[0mother\u001b[0m\u001b[1;33m)\u001b[0m\u001b[1;33m\u001b[0m\u001b[1;33m\u001b[0m\u001b[0m\n\u001b[0m\u001b[0;32m   1767\u001b[0m             \u001b[1;32mif\u001b[0m \u001b[0mis_scalar\u001b[0m\u001b[1;33m(\u001b[0m\u001b[0mres\u001b[0m\u001b[1;33m)\u001b[0m\u001b[1;33m:\u001b[0m\u001b[1;33m\u001b[0m\u001b[1;33m\u001b[0m\u001b[0m\n\u001b[0;32m   1768\u001b[0m                 raise TypeError('Could not compare {typ} type with Series'\n",
      "\u001b[1;32m~\\Anaconda3_new\\lib\\site-packages\\pandas\\core\\ops.py\u001b[0m in \u001b[0;36mna_op\u001b[1;34m(x, y)\u001b[0m\n\u001b[0;32m   1623\u001b[0m \u001b[1;33m\u001b[0m\u001b[0m\n\u001b[0;32m   1624\u001b[0m         \u001b[1;32mif\u001b[0m \u001b[0mis_object_dtype\u001b[0m\u001b[1;33m(\u001b[0m\u001b[0mx\u001b[0m\u001b[1;33m.\u001b[0m\u001b[0mdtype\u001b[0m\u001b[1;33m)\u001b[0m\u001b[1;33m:\u001b[0m\u001b[1;33m\u001b[0m\u001b[1;33m\u001b[0m\u001b[0m\n\u001b[1;32m-> 1625\u001b[1;33m             \u001b[0mresult\u001b[0m \u001b[1;33m=\u001b[0m \u001b[0m_comp_method_OBJECT_ARRAY\u001b[0m\u001b[1;33m(\u001b[0m\u001b[0mop\u001b[0m\u001b[1;33m,\u001b[0m \u001b[0mx\u001b[0m\u001b[1;33m,\u001b[0m \u001b[0my\u001b[0m\u001b[1;33m)\u001b[0m\u001b[1;33m\u001b[0m\u001b[1;33m\u001b[0m\u001b[0m\n\u001b[0m\u001b[0;32m   1626\u001b[0m \u001b[1;33m\u001b[0m\u001b[0m\n\u001b[0;32m   1627\u001b[0m         \u001b[1;32melif\u001b[0m \u001b[0mis_datetimelike_v_numeric\u001b[0m\u001b[1;33m(\u001b[0m\u001b[0mx\u001b[0m\u001b[1;33m,\u001b[0m \u001b[0my\u001b[0m\u001b[1;33m)\u001b[0m\u001b[1;33m:\u001b[0m\u001b[1;33m\u001b[0m\u001b[1;33m\u001b[0m\u001b[0m\n",
      "\u001b[1;31mKeyboardInterrupt\u001b[0m: "
     ]
    }
   ],
   "source": [
    "song_tot_count ={}\n",
    "for song in list(train_data['song_id'].unique()):\n",
    "    song_tot_count[song]= np.sum(train_data.loc[train_data.song_id==song]['listen_count'])\n"
   ]
  },
  {
   "cell_type": "code",
   "execution_count": 68,
   "metadata": {},
   "outputs": [],
   "source": [
    "def find_topK_pop_songs_user(k):\n",
    "    topk_pop_songs=[]\n",
    "    top=(sorted(song_tot_count.items(), key=lambda x: x[1], reverse=True))[:k]\n",
    "    topk_pop_songs= [el[0] for el in top[:k]]\n",
    "    return topk_pop_songs"
   ]
  },
  {
   "cell_type": "code",
   "execution_count": 69,
   "metadata": {},
   "outputs": [
    {
     "data": {
      "text/plain": [
       "['SOFRQTD12A81C233C0',\n",
       " 'SOAUWYT12A81C206F1',\n",
       " 'SOBONKR12A58A7A7E0',\n",
       " 'SOAXGDH12A8C13F8A1',\n",
       " 'SOSXLTC12AF72A7F54',\n",
       " 'SOEGIYH12A6D4FC0E3',\n",
       " 'SONYKOW12AB01849C9',\n",
       " 'SODJWHY12A8C142CCE',\n",
       " 'SOLFXKT12AB017E3E0',\n",
       " 'SOFLJQZ12A6D4FADA6']"
      ]
     },
     "execution_count": 69,
     "metadata": {},
     "output_type": "execute_result"
    }
   ],
   "source": [
    "topk_pop_songs_user= find_topK_pop_songs_user(k)\n",
    "print_names(topk_pop_songs_user)"
   ]
  },
  {
   "cell_type": "code",
   "execution_count": 47,
   "metadata": {},
   "outputs": [],
   "source": [
    "test_users= list(test_user_dict.keys())\n",
    "def find_topk_pop_songs(k):\n",
    "    topk_pop_songs={}\n",
    "    for user in test_users:\n",
    "        topk_pop_songs[user]= topk_pop_songs_user\n",
    "    return topk_pop_songs\n",
    "    "
   ]
  },
  {
   "cell_type": "code",
   "execution_count": 72,
   "metadata": {
    "scrolled": false
   },
   "outputs": [],
   "source": [
    "topk_pop_songs_pred=find_topk_pop_songs(k)\n",
    "topk_pop_songs_test=topksongs_test"
   ]
  },
  {
   "cell_type": "code",
   "execution_count": 106,
   "metadata": {},
   "outputs": [
    {
     "data": {
      "text/plain": [
       "0.0"
      ]
     },
     "execution_count": 106,
     "metadata": {},
     "output_type": "execute_result"
    }
   ],
   "source": [
    "find_NDCG_user(topk_pop_songs_pred['bba304c2ed4ef5ae8f15fd4fca4a694cf6c0e8a0'],topk_pop_songs_test['bba304c2ed4ef5ae8f15fd4fca4a694cf6c0e8a0'],test_rel_scores_dict['bba304c2ed4ef5ae8f15fd4fca4a694cf6c0e8a0'])"
   ]
  },
  {
   "cell_type": "code",
   "execution_count": 105,
   "metadata": {},
   "outputs": [
    {
     "name": "stdout",
     "output_type": "stream",
     "text": [
      "k is  10\n",
      "Average precision is: 0.037090026181101\n",
      "Average NDCG is: 0.1660450733014201\n"
     ]
    },
    {
     "data": {
      "text/plain": [
       "(0.037090026181101, 0.1660450733014201)"
      ]
     },
     "execution_count": 105,
     "metadata": {},
     "output_type": "execute_result"
    }
   ],
   "source": [
    "evaluateModel(topk_pop_songs_pred,topk_pop_songs_test,k,test_rel_scores_dict)"
   ]
  },
  {
   "cell_type": "code",
   "execution_count": 116,
   "metadata": {},
   "outputs": [
    {
     "data": {
      "text/plain": [
       "['SOFRQTD12A81C233C0',\n",
       " 'SOAUWYT12A81C206F1',\n",
       " 'SOBONKR12A58A7A7E0',\n",
       " 'SOAXGDH12A8C13F8A1',\n",
       " 'SOSXLTC12AF72A7F54',\n",
       " 'SOEGIYH12A6D4FC0E3',\n",
       " 'SONYKOW12AB01849C9',\n",
       " 'SODJWHY12A8C142CCE',\n",
       " 'SOLFXKT12AB017E3E0',\n",
       " 'SOFLJQZ12A6D4FADA6']"
      ]
     },
     "execution_count": 116,
     "metadata": {},
     "output_type": "execute_result"
    }
   ],
   "source": [
    "print_names(topk_pop_songs_pred['bba304c2ed4ef5ae8f15fd4fca4a694cf6c0e8a0'])"
   ]
  },
  {
   "cell_type": "code",
   "execution_count": 117,
   "metadata": {},
   "outputs": [
    {
     "data": {
      "text/plain": [
       "['SOOCEKO12A67ADF6D9',\n",
       " 'SOWRGDS12A6D4F94EE',\n",
       " 'SOUGSKL12A8C13F7BB',\n",
       " 'SOJWIJT12A8C136100',\n",
       " 'SORVKCB12AB0188D90',\n",
       " 'SODLCIU12A8AE45F1D',\n",
       " 'SOKUTUM12A6701D9CD',\n",
       " 'SOXHIDK12A58A7CFB3',\n",
       " 'SOBYHAJ12A6701BF1D',\n",
       " 'SOKLVUI12A6701BF1B']"
      ]
     },
     "execution_count": 117,
     "metadata": {},
     "output_type": "execute_result"
    }
   ],
   "source": [
    "print_names(topk_pop_songs_test['bba304c2ed4ef5ae8f15fd4fca4a694cf6c0e8a0'])"
   ]
  },
  {
   "cell_type": "code",
   "execution_count": 110,
   "metadata": {},
   "outputs": [],
   "source": [
    "def popularity_model(act_user_dict,rank_dic,krange):\n",
    "    prec_list=[]\n",
    "    ndcg_list=[]\n",
    "    for kval in krange:\n",
    "        topksongs_pr= topk_pop_songs_pred\n",
    "        topksongs_ac= findTopKSongs(act_user_dict,kval)\n",
    "        precision,ndcg = evaluateModel(topksongs_pr,topksongs_ac,kval,rank_dic)\n",
    "        prec_list.append(precision)\n",
    "        ndcg_list.append(ndcg)\n",
    "    return prec_list,ndcg_list\n"
   ]
  },
  {
   "cell_type": "code",
   "execution_count": 111,
   "metadata": {},
   "outputs": [
    {
     "name": "stdout",
     "output_type": "stream",
     "text": [
      "k is  2\n",
      "Average precision is: 0.04400612512760683\n",
      "Average NDCG is: 0.3911652602624927\n",
      "k is  3\n",
      "Average precision is: 0.04127169316027417\n",
      "Average NDCG is: 0.25818221703863786\n",
      "k is  4\n",
      "Average precision is: 0.03967235428515872\n",
      "Average NDCG is: 0.2112694976359811\n",
      "k is  5\n",
      "Average precision is: 0.038775460599873614\n",
      "Average NDCG is: 0.1904495443472979\n",
      "k is  6\n",
      "Average precision is: 0.038187740022361576\n",
      "Average NDCG is: 0.17980728424285078\n",
      "k is  7\n",
      "Average precision is: 0.03775613380834324\n",
      "Average NDCG is: 0.17375836571188494\n",
      "k is  8\n",
      "Average precision is: 0.03748815947554463\n",
      "Average NDCG is: 0.17005419360683713\n",
      "k is  9\n",
      "Average precision is: 0.037257251887192096\n",
      "Average NDCG is: 0.16765143471613053\n",
      "k is  10\n",
      "Average precision is: 0.037090026181101\n",
      "Average NDCG is: 0.1660450733014201\n",
      "k is  11\n",
      "Average precision is: 0.03694153823911736\n",
      "Average NDCG is: 0.16492709264119063\n",
      "k is  12\n",
      "Average precision is: 0.036832050478324364\n",
      "Average NDCG is: 0.16412783986726123\n",
      "k is  13\n",
      "Average precision is: 0.03675258835277794\n",
      "Average NDCG is: 0.1635562907770992\n",
      "k is  14\n",
      "Average precision is: 0.036679590037107905\n",
      "Average NDCG is: 0.16313320778414347\n"
     ]
    }
   ],
   "source": [
    "krange= list(range(2,15))\n",
    "precision_vals, ndcg_vals= popularity_model(test_user_dict,test_rel_scores_dict,krange)"
   ]
  },
  {
   "cell_type": "code",
   "execution_count": 42,
   "metadata": {},
   "outputs": [],
   "source": [
    "import matplotlib.pyplot as plt"
   ]
  },
  {
   "cell_type": "code",
   "execution_count": 113,
   "metadata": {},
   "outputs": [
    {
     "data": {
      "image/png": "[encoded data removed]",
      "text/plain": [
       "<Figure size 432x288 with 1 Axes>"
      ]
     },
     "metadata": {
      "needs_background": "light"
     },
     "output_type": "display_data"
    }
   ],
   "source": [
    "\n",
    "plt.plot(np.array(krange),np.array(precision_vals))\n",
    "plt.show()"
   ]
  },
  {
   "cell_type": "code",
   "execution_count": 115,
   "metadata": {},
   "outputs": [
    {
     "data": {
      "image/png": "[encoded data removed]",
      "text/plain": [
       "<Figure size 432x288 with 1 Axes>"
      ]
     },
     "metadata": {
      "needs_background": "light"
     },
     "output_type": "display_data"
    }
   ],
   "source": [
    "plt.plot(np.array(krange),np.array(ndcg_vals))\n",
    "plt.show()"
   ]
  },
  {
   "cell_type": "markdown",
   "metadata": {},
   "source": [
    "# Ensemble Model"
   ]
  },
  {
   "cell_type": "code",
   "execution_count": 11,
   "metadata": {},
   "outputs": [],
   "source": [
    "def ensemble(preds,k):\n",
    "    pred_ens=np.mean(np.array(preds),axis=0)\n",
    "    print(\"RMS Error for Ensemble approach is \",find_RMS(pred_ens,ground_truth))\n",
    "    print(\"MAE Error for Ensemble approach is \", find_MAE(pred_ens,ground_truth))\n",
    "    predict_data_ens = test_data.copy()\n",
    "    predict_data_ens['listen_count']= pred_ens\n",
    "    predict_user_dict_ens= findUSerCounts(predict_data_ens)\n",
    "    topksongs_pred_ens= findTopKSongs(predict_user_dict_ens,k)\n",
    "    return predict_user_dict_ens,topksongs_pred_ens\n",
    "    \n",
    "    "
   ]
  },
  {
   "cell_type": "code",
   "execution_count": null,
   "metadata": {},
   "outputs": [],
   "source": []
  },
  {
   "cell_type": "code",
   "execution_count": 5,
   "metadata": {},
   "outputs": [],
   "source": [
    "import pickle\n",
    "file = open(\"svd.p\",'rb')\n",
    "predict_SVD = pickle.load(file)\n",
    "file.close()\n",
    "\n",
    "file2 = open(\"svdpp.p\", 'rb')\n",
    "predict_SVDPP = pickle.load(file2)\n",
    "file2.close()\n",
    "\n",
    "file2 = open(\"bpr.p\", 'rb')\n",
    "predict_BPR = pickle.load(file2)\n",
    "file2.close()"
   ]
  },
  {
   "cell_type": "code",
   "execution_count": 7,
   "metadata": {},
   "outputs": [],
   "source": [
    "preds=[]\n",
    "preds.append(predict_SVD)\n",
    "preds.append(predict_SVDPP)\n",
    "preds.append(predict_BPR)"
   ]
  },
  {
   "cell_type": "code",
   "execution_count": 32,
   "metadata": {},
   "outputs": [
    {
     "name": "stdout",
     "output_type": "stream",
     "text": [
      "RMS Error for Ensemble approach is  0.3498870675702014\n",
      "MAE Error for Ensemble approach is  0.3008152800619175\n"
     ]
    }
   ],
   "source": [
    "k=10\n",
    "predict_user_dict_ens,topksongs_pred_ens= ensemble(preds,k)"
   ]
  },
  {
   "cell_type": "code",
   "execution_count": 38,
   "metadata": {},
   "outputs": [
    {
     "name": "stdout",
     "output_type": "stream",
     "text": [
      "Average precision is: 0.8581916289922706\n",
      "Average NDCG is: 0.8395732809715754\n"
     ]
    }
   ],
   "source": [
    "precision_ens,ndcg_ens= evaluate(topksongs_pred_ens,topksongs_test,5,test_rel_scores_dict)\n",
    "print('Average precision is:',precision_ens )\n",
    "print('Average NDCG is:',ndcg_ens )"
   ]
  },
  {
   "cell_type": "code",
   "execution_count": 40,
   "metadata": {},
   "outputs": [],
   "source": [
    "krange= list(range(2,15))\n",
    "precision_vals_ens, ndcg_vals_ens= eval_model(predict_user_dict_ens,test_user_dict,test_rel_scores_dict,krange)"
   ]
  },
  {
   "cell_type": "code",
   "execution_count": 43,
   "metadata": {},
   "outputs": [
    {
     "data": {
      "image/png": "[encoded data removed]",
      "text/plain": [
       "<Figure size 432x288 with 1 Axes>"
      ]
     },
     "metadata": {
      "needs_background": "light"
     },
     "output_type": "display_data"
    }
   ],
   "source": [
    "plt.plot(np.array(krange),np.array(precision_vals_ens))\n",
    "plt.show()"
   ]
  },
  {
   "cell_type": "code",
   "execution_count": 44,
   "metadata": {},
   "outputs": [
    {
     "data": {
      "image/png": "[encoded data removed]",
      "text/plain": [
       "<Figure size 432x288 with 1 Axes>"
      ]
     },
     "metadata": {
      "needs_background": "light"
     },
     "output_type": "display_data"
    }
   ],
   "source": [
    "plt.plot(np.array(krange),np.array(ndcg_vals_ens))\n",
    "plt.show()"
   ]
  },
  {
   "cell_type": "code",
   "execution_count": null,
   "metadata": {},
   "outputs": [],
   "source": [
    "\n"
   ]
  },
  {
   "cell_type": "code",
   "execution_count": null,
   "metadata": {},
   "outputs": [],
   "source": []
  }
 ],
 "metadata": {
  "kernelspec": {
   "display_name": "Python 3",
   "language": "python",
   "name": "python3"
  },
  "language_info": {
   "codemirror_mode": {
    "name": "ipython",
    "version": 3
   },
   "file_extension": ".py",
   "mimetype": "text/x-python",
   "name": "python",
   "nbconvert_exporter": "python",
   "pygments_lexer": "ipython3",
   "version": "3.6.8"
  }
 },
 "nbformat": 4,
 "nbformat_minor": 2
}
