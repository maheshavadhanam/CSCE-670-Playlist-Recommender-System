{
 "cells": [
  {
   "cell_type": "code",
   "execution_count": 13,
   "metadata": {},
   "outputs": [],
   "source": [
    "%matplotlib inline\n",
    "import pandas\n",
    "from sklearn.model_selection import train_test_split\n",
    "import numpy as np\n",
    "import time"
   ]
  },
  {
   "cell_type": "markdown",
   "metadata": {},
   "source": [
    "# Data pre-processing"
   ]
  },
  {
   "cell_type": "code",
   "execution_count": 14,
   "metadata": {},
   "outputs": [],
   "source": [
    "#Read userid-songid-listen_count triplets\n",
    "#This step might take time to download data from external sources\n",
    "user_songs_lcount_file = 'https://static.turi.com/datasets/millionsong/10000.txt'\n",
    "songs_metadata_file = 'https://static.turi.com/datasets/millionsong/song_data.csv'\n",
    "\n",
    "user_songs_df = pandas.read_csv (user_songs_lcount_file,header=None, sep='\\t')\n",
    "user_songs_df.columns = ['user_id', 'song_id', 'listen_count']\n",
    "\n",
    "#Read song  metadata\n",
    "songs_metadata_df =  pandas.read_csv(songs_metadata_file)\n",
    "\n",
    "#Merge the two dataframes above to create input dataframe for recommender systems\n",
    "df_merge = pandas.merge(user_songs_df, songs_metadata_df.drop_duplicates(['song_id']), on=\"song_id\", how=\"left\") "
   ]
  },
  {
   "cell_type": "markdown",
   "metadata": {},
   "source": [
    "Scale down the listen score by applying log function"
   ]
  },
  {
   "cell_type": "code",
   "execution_count": 15,
   "metadata": {},
   "outputs": [],
   "source": [
    "import numpy as np\n",
    "import math\n",
    "df_merge['listen_count'] =df_merge['listen_count'][df_merge['listen_count']!=0].apply(lambda x: 1+np.log10(x))"
   ]
  },
  {
   "cell_type": "code",
   "execution_count": 7,
   "metadata": {},
   "outputs": [
    {
     "data": {
      "text/html": [
       "<div>\n",
       "<style scoped>\n",
       "    .dataframe tbody tr th:only-of-type {\n",
       "        vertical-align: middle;\n",
       "    }\n",
       "\n",
       "    .dataframe tbody tr th {\n",
       "        vertical-align: top;\n",
       "    }\n",
       "\n",
       "    .dataframe thead th {\n",
       "        text-align: right;\n",
       "    }\n",
       "</style>\n",
       "<table border=\"1\" class=\"dataframe\">\n",
       "  <thead>\n",
       "    <tr style=\"text-align: right;\">\n",
       "      <th></th>\n",
       "      <th>user_id</th>\n",
       "      <th>song_id</th>\n",
       "      <th>listen_count</th>\n",
       "      <th>title</th>\n",
       "      <th>release</th>\n",
       "      <th>artist_name</th>\n",
       "      <th>year</th>\n",
       "    </tr>\n",
       "  </thead>\n",
       "  <tbody>\n",
       "    <tr>\n",
       "      <th>0</th>\n",
       "      <td>b80344d063b5ccb3212f76538f3d9e43d87dca9e</td>\n",
       "      <td>SOAKIMP12A8C130995</td>\n",
       "      <td>1.00000</td>\n",
       "      <td>The Cove</td>\n",
       "      <td>Thicker Than Water</td>\n",
       "      <td>Jack Johnson</td>\n",
       "      <td>0</td>\n",
       "    </tr>\n",
       "    <tr>\n",
       "      <th>1</th>\n",
       "      <td>b80344d063b5ccb3212f76538f3d9e43d87dca9e</td>\n",
       "      <td>SOBBMDR12A8C13253B</td>\n",
       "      <td>1.30103</td>\n",
       "      <td>Entre Dos Aguas</td>\n",
       "      <td>Flamenco Para Niños</td>\n",
       "      <td>Paco De Lucia</td>\n",
       "      <td>1976</td>\n",
       "    </tr>\n",
       "    <tr>\n",
       "      <th>2</th>\n",
       "      <td>b80344d063b5ccb3212f76538f3d9e43d87dca9e</td>\n",
       "      <td>SOBXHDL12A81C204C0</td>\n",
       "      <td>1.00000</td>\n",
       "      <td>Stronger</td>\n",
       "      <td>Graduation</td>\n",
       "      <td>Kanye West</td>\n",
       "      <td>2007</td>\n",
       "    </tr>\n",
       "    <tr>\n",
       "      <th>3</th>\n",
       "      <td>b80344d063b5ccb3212f76538f3d9e43d87dca9e</td>\n",
       "      <td>SOBYHAJ12A6701BF1D</td>\n",
       "      <td>1.00000</td>\n",
       "      <td>Constellations</td>\n",
       "      <td>In Between Dreams</td>\n",
       "      <td>Jack Johnson</td>\n",
       "      <td>2005</td>\n",
       "    </tr>\n",
       "    <tr>\n",
       "      <th>4</th>\n",
       "      <td>b80344d063b5ccb3212f76538f3d9e43d87dca9e</td>\n",
       "      <td>SODACBL12A8C13C273</td>\n",
       "      <td>1.00000</td>\n",
       "      <td>Learn To Fly</td>\n",
       "      <td>There Is Nothing Left To Lose</td>\n",
       "      <td>Foo Fighters</td>\n",
       "      <td>1999</td>\n",
       "    </tr>\n",
       "  </tbody>\n",
       "</table>\n",
       "</div>"
      ],
      "text/plain": [
       "                                    user_id             song_id  listen_count  \\\n",
       "0  b80344d063b5ccb3212f76538f3d9e43d87dca9e  SOAKIMP12A8C130995       1.00000   \n",
       "1  b80344d063b5ccb3212f76538f3d9e43d87dca9e  SOBBMDR12A8C13253B       1.30103   \n",
       "2  b80344d063b5ccb3212f76538f3d9e43d87dca9e  SOBXHDL12A81C204C0       1.00000   \n",
       "3  b80344d063b5ccb3212f76538f3d9e43d87dca9e  SOBYHAJ12A6701BF1D       1.00000   \n",
       "4  b80344d063b5ccb3212f76538f3d9e43d87dca9e  SODACBL12A8C13C273       1.00000   \n",
       "\n",
       "             title                        release    artist_name  year  \n",
       "0         The Cove             Thicker Than Water   Jack Johnson     0  \n",
       "1  Entre Dos Aguas            Flamenco Para Niños  Paco De Lucia  1976  \n",
       "2         Stronger                     Graduation     Kanye West  2007  \n",
       "3   Constellations              In Between Dreams   Jack Johnson  2005  \n",
       "4     Learn To Fly  There Is Nothing Left To Lose   Foo Fighters  1999  "
      ]
     },
     "execution_count": 7,
     "metadata": {},
     "output_type": "execute_result"
    }
   ],
   "source": [
    "df_merge.head()"
   ]
  },
  {
   "cell_type": "code",
   "execution_count": 8,
   "metadata": {},
   "outputs": [
    {
     "data": {
      "text/html": [
       "<div>\n",
       "<style scoped>\n",
       "    .dataframe tbody tr th:only-of-type {\n",
       "        vertical-align: middle;\n",
       "    }\n",
       "\n",
       "    .dataframe tbody tr th {\n",
       "        vertical-align: top;\n",
       "    }\n",
       "\n",
       "    .dataframe thead th {\n",
       "        text-align: right;\n",
       "    }\n",
       "</style>\n",
       "<table border=\"1\" class=\"dataframe\">\n",
       "  <thead>\n",
       "    <tr style=\"text-align: right;\">\n",
       "      <th></th>\n",
       "      <th>song_id</th>\n",
       "      <th>title</th>\n",
       "      <th>release</th>\n",
       "      <th>artist_name</th>\n",
       "      <th>year</th>\n",
       "    </tr>\n",
       "  </thead>\n",
       "  <tbody>\n",
       "    <tr>\n",
       "      <th>0</th>\n",
       "      <td>SOQMMHC12AB0180CB8</td>\n",
       "      <td>Silent Night</td>\n",
       "      <td>Monster Ballads X-Mas</td>\n",
       "      <td>Faster Pussy cat</td>\n",
       "      <td>2003</td>\n",
       "    </tr>\n",
       "    <tr>\n",
       "      <th>1</th>\n",
       "      <td>SOVFVAK12A8C1350D9</td>\n",
       "      <td>Tanssi vaan</td>\n",
       "      <td>Karkuteillä</td>\n",
       "      <td>Karkkiautomaatti</td>\n",
       "      <td>1995</td>\n",
       "    </tr>\n",
       "    <tr>\n",
       "      <th>2</th>\n",
       "      <td>SOGTUKN12AB017F4F1</td>\n",
       "      <td>No One Could Ever</td>\n",
       "      <td>Butter</td>\n",
       "      <td>Hudson Mohawke</td>\n",
       "      <td>2006</td>\n",
       "    </tr>\n",
       "    <tr>\n",
       "      <th>3</th>\n",
       "      <td>SOBNYVR12A8C13558C</td>\n",
       "      <td>Si Vos Querés</td>\n",
       "      <td>De Culo</td>\n",
       "      <td>Yerba Brava</td>\n",
       "      <td>2003</td>\n",
       "    </tr>\n",
       "    <tr>\n",
       "      <th>4</th>\n",
       "      <td>SOHSBXH12A8C13B0DF</td>\n",
       "      <td>Tangle Of Aspens</td>\n",
       "      <td>Rene Ablaze Presents Winter Sessions</td>\n",
       "      <td>Der Mystic</td>\n",
       "      <td>0</td>\n",
       "    </tr>\n",
       "  </tbody>\n",
       "</table>\n",
       "</div>"
      ],
      "text/plain": [
       "              song_id              title  \\\n",
       "0  SOQMMHC12AB0180CB8       Silent Night   \n",
       "1  SOVFVAK12A8C1350D9        Tanssi vaan   \n",
       "2  SOGTUKN12AB017F4F1  No One Could Ever   \n",
       "3  SOBNYVR12A8C13558C      Si Vos Querés   \n",
       "4  SOHSBXH12A8C13B0DF   Tangle Of Aspens   \n",
       "\n",
       "                                release       artist_name  year  \n",
       "0                 Monster Ballads X-Mas  Faster Pussy cat  2003  \n",
       "1                           Karkuteillä  Karkkiautomaatti  1995  \n",
       "2                                Butter    Hudson Mohawke  2006  \n",
       "3                               De Culo       Yerba Brava  2003  \n",
       "4  Rene Ablaze Presents Winter Sessions        Der Mystic     0  "
      ]
     },
     "execution_count": 8,
     "metadata": {},
     "output_type": "execute_result"
    }
   ],
   "source": [
    "songs_metadata_df.head()"
   ]
  },
  {
   "cell_type": "markdown",
   "metadata": {},
   "source": [
    "Split the data into training and testing samples"
   ]
  },
  {
   "cell_type": "code",
   "execution_count": 19,
   "metadata": {},
   "outputs": [
    {
     "data": {
      "text/html": [
       "<div>\n",
       "<style scoped>\n",
       "    .dataframe tbody tr th:only-of-type {\n",
       "        vertical-align: middle;\n",
       "    }\n",
       "\n",
       "    .dataframe tbody tr th {\n",
       "        vertical-align: top;\n",
       "    }\n",
       "\n",
       "    .dataframe thead th {\n",
       "        text-align: right;\n",
       "    }\n",
       "</style>\n",
       "<table border=\"1\" class=\"dataframe\">\n",
       "  <thead>\n",
       "    <tr style=\"text-align: right;\">\n",
       "      <th></th>\n",
       "      <th>user_id</th>\n",
       "      <th>song_id</th>\n",
       "      <th>listen_count</th>\n",
       "      <th>title</th>\n",
       "      <th>release</th>\n",
       "      <th>artist_name</th>\n",
       "      <th>year</th>\n",
       "    </tr>\n",
       "  </thead>\n",
       "  <tbody>\n",
       "    <tr>\n",
       "      <th>608812</th>\n",
       "      <td>7b8fbe766a49e5d7618452149dfab920621fc4fb</td>\n",
       "      <td>SOJJYDE12AF729FC16</td>\n",
       "      <td>1.00000</td>\n",
       "      <td>Two Is Better Than One</td>\n",
       "      <td>Love Drunk</td>\n",
       "      <td>Boys Like Girls featuring Taylor Swift</td>\n",
       "      <td>2009</td>\n",
       "    </tr>\n",
       "    <tr>\n",
       "      <th>623729</th>\n",
       "      <td>d24956cd68ff84b6d0271286ae6866ee1c89ff77</td>\n",
       "      <td>SOPQGWI12A8C135DDB</td>\n",
       "      <td>1.30103</td>\n",
       "      <td>Royal Gregory</td>\n",
       "      <td>LP</td>\n",
       "      <td>Holy Fuck</td>\n",
       "      <td>2007</td>\n",
       "    </tr>\n",
       "    <tr>\n",
       "      <th>583106</th>\n",
       "      <td>da7b91b6cab1ca11227ee7720c4d2e03e8c31579</td>\n",
       "      <td>SOCOIIG12A58A7D151</td>\n",
       "      <td>1.00000</td>\n",
       "      <td>Mr Sandman</td>\n",
       "      <td>Original Hits - 50s</td>\n",
       "      <td>The Chordettes</td>\n",
       "      <td>1993</td>\n",
       "    </tr>\n",
       "    <tr>\n",
       "      <th>435735</th>\n",
       "      <td>5f633da6ad4845350949c3c76ce6c4ef6f167476</td>\n",
       "      <td>SOQQTBB12AB0182F1D</td>\n",
       "      <td>1.30103</td>\n",
       "      <td>A Days Work (feat. P.O.S)</td>\n",
       "      <td>Rádio do Canibal</td>\n",
       "      <td>BK-One</td>\n",
       "      <td>0</td>\n",
       "    </tr>\n",
       "    <tr>\n",
       "      <th>1361953</th>\n",
       "      <td>01ad0fabd01af750700a1e80bb0055abcb3edd28</td>\n",
       "      <td>SOVYNVS12AC3DF64AB</td>\n",
       "      <td>1.30103</td>\n",
       "      <td>Rockin' Rollin' Stone</td>\n",
       "      <td>100 Greatest Rockabilly Hits</td>\n",
       "      <td>Andy Starr</td>\n",
       "      <td>2000</td>\n",
       "    </tr>\n",
       "  </tbody>\n",
       "</table>\n",
       "</div>"
      ],
      "text/plain": [
       "                                          user_id             song_id  \\\n",
       "608812   7b8fbe766a49e5d7618452149dfab920621fc4fb  SOJJYDE12AF729FC16   \n",
       "623729   d24956cd68ff84b6d0271286ae6866ee1c89ff77  SOPQGWI12A8C135DDB   \n",
       "583106   da7b91b6cab1ca11227ee7720c4d2e03e8c31579  SOCOIIG12A58A7D151   \n",
       "435735   5f633da6ad4845350949c3c76ce6c4ef6f167476  SOQQTBB12AB0182F1D   \n",
       "1361953  01ad0fabd01af750700a1e80bb0055abcb3edd28  SOVYNVS12AC3DF64AB   \n",
       "\n",
       "         listen_count                      title  \\\n",
       "608812        1.00000     Two Is Better Than One   \n",
       "623729        1.30103              Royal Gregory   \n",
       "583106        1.00000                 Mr Sandman   \n",
       "435735        1.30103  A Days Work (feat. P.O.S)   \n",
       "1361953       1.30103      Rockin' Rollin' Stone   \n",
       "\n",
       "                              release                             artist_name  \\\n",
       "608812                     Love Drunk  Boys Like Girls featuring Taylor Swift   \n",
       "623729                             LP                               Holy Fuck   \n",
       "583106            Original Hits - 50s                          The Chordettes   \n",
       "435735               Rádio do Canibal                                  BK-One   \n",
       "1361953  100 Greatest Rockabilly Hits                              Andy Starr   \n",
       "\n",
       "         year  \n",
       "608812   2009  \n",
       "623729   2007  \n",
       "583106   1993  \n",
       "435735      0  \n",
       "1361953  2000  "
      ]
     },
     "execution_count": 19,
     "metadata": {},
     "output_type": "execute_result"
    }
   ],
   "source": [
    "train_data, test_data = train_test_split(df_merge, test_size = 0.20, random_state=0)\n",
    "(train_data.head(5))"
   ]
  },
  {
   "cell_type": "code",
   "execution_count": 10,
   "metadata": {},
   "outputs": [
    {
     "data": {
      "text/html": [
       "<div>\n",
       "<style scoped>\n",
       "    .dataframe tbody tr th:only-of-type {\n",
       "        vertical-align: middle;\n",
       "    }\n",
       "\n",
       "    .dataframe tbody tr th {\n",
       "        vertical-align: top;\n",
       "    }\n",
       "\n",
       "    .dataframe thead th {\n",
       "        text-align: right;\n",
       "    }\n",
       "</style>\n",
       "<table border=\"1\" class=\"dataframe\">\n",
       "  <thead>\n",
       "    <tr style=\"text-align: right;\">\n",
       "      <th></th>\n",
       "      <th>user_id</th>\n",
       "      <th>song_id</th>\n",
       "      <th>listen_count</th>\n",
       "      <th>title</th>\n",
       "      <th>release</th>\n",
       "      <th>artist_name</th>\n",
       "      <th>year</th>\n",
       "    </tr>\n",
       "  </thead>\n",
       "  <tbody>\n",
       "    <tr>\n",
       "      <th>1319600</th>\n",
       "      <td>bba304c2ed4ef5ae8f15fd4fca4a694cf6c0e8a0</td>\n",
       "      <td>SORVKCB12AB0188D90</td>\n",
       "      <td>1.301030</td>\n",
       "      <td>Big Calm</td>\n",
       "      <td>Big Calm</td>\n",
       "      <td>Morcheeba</td>\n",
       "      <td>1998</td>\n",
       "    </tr>\n",
       "    <tr>\n",
       "      <th>1697773</th>\n",
       "      <td>da5d0afc724e7d63b9e90552a4d148fcce94e97e</td>\n",
       "      <td>SOGJMJH12A6702154D</td>\n",
       "      <td>1.000000</td>\n",
       "      <td>Closer</td>\n",
       "      <td>The Downward Spiral</td>\n",
       "      <td>Nine Inch Nails</td>\n",
       "      <td>1994</td>\n",
       "    </tr>\n",
       "    <tr>\n",
       "      <th>742836</th>\n",
       "      <td>4e23d4c1111c206e2dc0984c9d1b2e3bff510482</td>\n",
       "      <td>SOAXGDH12A8C13F8A1</td>\n",
       "      <td>1.000000</td>\n",
       "      <td>Dog Days Are Over (Radio Edit)</td>\n",
       "      <td>Now That's What I Call Music! 75</td>\n",
       "      <td>Florence + The Machine</td>\n",
       "      <td>0</td>\n",
       "    </tr>\n",
       "    <tr>\n",
       "      <th>114563</th>\n",
       "      <td>2109f4ce04660f2d92d7bc36b0c221d171172d6b</td>\n",
       "      <td>SOMWASN12A6D4F72B3</td>\n",
       "      <td>1.477121</td>\n",
       "      <td>Bricks</td>\n",
       "      <td>The Sufferer &amp; The Witness</td>\n",
       "      <td>Rise Against</td>\n",
       "      <td>2006</td>\n",
       "    </tr>\n",
       "    <tr>\n",
       "      <th>236686</th>\n",
       "      <td>74e3254cb58a35de657126e9e2f61b474857ff0f</td>\n",
       "      <td>SOYGHUM12AB018139C</td>\n",
       "      <td>1.602060</td>\n",
       "      <td>Bad Company</td>\n",
       "      <td>War Is The Answer</td>\n",
       "      <td>Five Finger Death Punch</td>\n",
       "      <td>2009</td>\n",
       "    </tr>\n",
       "  </tbody>\n",
       "</table>\n",
       "</div>"
      ],
      "text/plain": [
       "                                          user_id             song_id  \\\n",
       "1319600  bba304c2ed4ef5ae8f15fd4fca4a694cf6c0e8a0  SORVKCB12AB0188D90   \n",
       "1697773  da5d0afc724e7d63b9e90552a4d148fcce94e97e  SOGJMJH12A6702154D   \n",
       "742836   4e23d4c1111c206e2dc0984c9d1b2e3bff510482  SOAXGDH12A8C13F8A1   \n",
       "114563   2109f4ce04660f2d92d7bc36b0c221d171172d6b  SOMWASN12A6D4F72B3   \n",
       "236686   74e3254cb58a35de657126e9e2f61b474857ff0f  SOYGHUM12AB018139C   \n",
       "\n",
       "         listen_count                           title  \\\n",
       "1319600      1.301030                        Big Calm   \n",
       "1697773      1.000000                          Closer   \n",
       "742836       1.000000  Dog Days Are Over (Radio Edit)   \n",
       "114563       1.477121                          Bricks   \n",
       "236686       1.602060                     Bad Company   \n",
       "\n",
       "                                  release              artist_name  year  \n",
       "1319600                          Big Calm                Morcheeba  1998  \n",
       "1697773               The Downward Spiral          Nine Inch Nails  1994  \n",
       "742836   Now That's What I Call Music! 75   Florence + The Machine     0  \n",
       "114563         The Sufferer & The Witness             Rise Against  2006  \n",
       "236686                  War Is The Answer  Five Finger Death Punch  2009  "
      ]
     },
     "execution_count": 10,
     "metadata": {},
     "output_type": "execute_result"
    }
   ],
   "source": [
    "test_data.head()"
   ]
  },
  {
   "cell_type": "markdown",
   "metadata": {},
   "source": [
    " # SVD and SVD++ models\n"
   ]
  },
  {
   "cell_type": "code",
   "execution_count": 11,
   "metadata": {},
   "outputs": [],
   "source": [
    "ground_truth = list(test_data['listen_count'])"
   ]
  },
  {
   "cell_type": "code",
   "execution_count": 12,
   "metadata": {},
   "outputs": [],
   "source": [
    "from surprise import SVD\n",
    "from surprise import SVDpp\n",
    "from surprise import Dataset\n",
    "from surprise import Reader\n",
    "from surprise.model_selection import cross_validate\n",
    "reader = Reader(rating_scale=(1, 10))"
   ]
  },
  {
   "cell_type": "code",
   "execution_count": 13,
   "metadata": {},
   "outputs": [],
   "source": [
    "train_dataSVD = Dataset.load_from_df(train_data[['user_id', 'song_id', 'listen_count']], reader)\n",
    "test_dataSVD = Dataset.load_from_df(test_data[['user_id', 'song_id', 'listen_count']], reader)"
   ]
  },
  {
   "cell_type": "code",
   "execution_count": 14,
   "metadata": {},
   "outputs": [],
   "source": [
    "trainset = train_dataSVD.build_full_trainset()"
   ]
  },
  {
   "cell_type": "code",
   "execution_count": 13,
   "metadata": {},
   "outputs": [],
   "source": [
    "algo1= SVD()\n",
    "algo2 = SVDpp()"
   ]
  },
  {
   "cell_type": "code",
   "execution_count": 14,
   "metadata": {},
   "outputs": [
    {
     "data": {
      "text/plain": [
       "<surprise.prediction_algorithms.matrix_factorization.SVD at 0x1b810b3f2e8>"
      ]
     },
     "execution_count": 14,
     "metadata": {},
     "output_type": "execute_result"
    }
   ],
   "source": [
    "algo1.fit(trainset)"
   ]
  },
  {
   "cell_type": "code",
   "execution_count": 15,
   "metadata": {},
   "outputs": [
    {
     "data": {
      "text/plain": [
       "<surprise.prediction_algorithms.matrix_factorization.SVDpp at 0x1b810b3f9e8>"
      ]
     },
     "execution_count": 15,
     "metadata": {},
     "output_type": "execute_result"
    }
   ],
   "source": [
    "algo2.fit(trainset)"
   ]
  },
  {
   "cell_type": "code",
   "execution_count": 16,
   "metadata": {},
   "outputs": [],
   "source": [
    "from sklearn.metrics import mean_squared_error\n",
    "from sklearn.metrics import mean_absolute_error\n",
    "from math import sqrt\n",
    "def find_RMS(y_predicted,y_actual):\n",
    "    return sqrt(mean_squared_error(y_actual, y_predicted))\n",
    "\n",
    "def find_MAE(y_predicted, y_actual):\n",
    "    return mean_absolute_error(y_actual,y_predicted)\n"
   ]
  },
  {
   "cell_type": "code",
   "execution_count": 22,
   "metadata": {},
   "outputs": [],
   "source": [
    "def predict(algo, name):\n",
    "    prediction= [algo.predict(row['user_id'], row['song_id'], verbose=False).est for index,row in test_data.iterrows()]\n",
    "    print(\"RMS Error for\", name, \" is \",find_RMS(prediction,ground_truth))\n",
    "    print(\"MAE Error for\", name, \" is \",find_MAE(prediction,ground_truth))\n",
    "    return prediction"
   ]
  },
  {
   "cell_type": "code",
   "execution_count": 23,
   "metadata": {},
   "outputs": [
    {
     "name": "stdout",
     "output_type": "stream",
     "text": [
      "RMS Error for SVD  is  0.32259055548269383\n",
      "MAE Error for SVD  is  0.24682773235930977\n"
     ]
    }
   ],
   "source": [
    "predictSVD= predict(algo1, 'SVD')"
   ]
  },
  {
   "cell_type": "code",
   "execution_count": 27,
   "metadata": {},
   "outputs": [],
   "source": [
    "import pickle\n",
    "pickle.dump( predictSVD, open( \"svd.p\", \"wb\" ) )"
   ]
  },
  {
   "cell_type": "code",
   "execution_count": 28,
   "metadata": {},
   "outputs": [
    {
     "name": "stdout",
     "output_type": "stream",
     "text": [
      "RMS Error for SVDPP  is  0.31725306402477366\n",
      "MAE Error for SVDPP  is  0.24182494124705559\n"
     ]
    }
   ],
   "source": [
    "predictSVDPP=predict(algo2, 'SVDPP')"
   ]
  },
  {
   "cell_type": "code",
   "execution_count": 29,
   "metadata": {},
   "outputs": [],
   "source": [
    "pickle.dump( predictSVDPP, open( \"svdpp.p\", \"wb\" ))"
   ]
  },
  {
   "cell_type": "code",
   "execution_count": 17,
   "metadata": {},
   "outputs": [],
   "source": [
    "def findUSerCounts(df):\n",
    "    user_counts={}\n",
    "    for index,row in df.iterrows():\n",
    "        ui = row['user_id']\n",
    "        song= row['song_id']\n",
    "        count= row ['listen_count']\n",
    "        if ui not in user_counts:\n",
    "            user_counts[ui]={}\n",
    "        user_counts[ui][song]= count\n",
    "    return user_counts"
   ]
  },
  {
   "cell_type": "code",
   "execution_count": 31,
   "metadata": {},
   "outputs": [],
   "source": [
    "predict_data_SVD = test_data.copy()\n",
    "predict_data_SVD['listen_count']= predictSVD"
   ]
  },
  {
   "cell_type": "code",
   "execution_count": 32,
   "metadata": {},
   "outputs": [],
   "source": [
    "predict_data_SVDPP = test_data.copy()\n",
    "predict_data_SVDPP['listen_count']= predictSVDPP"
   ]
  },
  {
   "cell_type": "code",
   "execution_count": 33,
   "metadata": {},
   "outputs": [],
   "source": [
    "predict_user_dict_SVD= findUSerCounts(predict_data_SVD)"
   ]
  },
  {
   "cell_type": "code",
   "execution_count": 34,
   "metadata": {},
   "outputs": [],
   "source": [
    "predict_user_dict_SVDPP= findUSerCounts(predict_data_SVDPP)"
   ]
  },
  {
   "cell_type": "code",
   "execution_count": 20,
   "metadata": {},
   "outputs": [],
   "source": [
    "test_user_dict=findUSerCounts(test_data)"
   ]
  },
  {
   "cell_type": "markdown",
   "metadata": {},
   "source": [
    "Find TopK songs for a user"
   ]
  },
  {
   "cell_type": "code",
   "execution_count": 32,
   "metadata": {},
   "outputs": [],
   "source": [
    "def findTopKSongUser(user, df,k ):\n",
    "    user_dict= df[user]\n",
    "    top= sorted(user_dict.items(), key=lambda x: x[1], reverse=True)\n",
    "    topk_songs= [el[0] for el in top[:k]]\n",
    "    return topk_songs"
   ]
  },
  {
   "cell_type": "code",
   "execution_count": 30,
   "metadata": {},
   "outputs": [],
   "source": [
    "k=10"
   ]
  },
  {
   "cell_type": "markdown",
   "metadata": {},
   "source": [
    "Get name of the song from metadata"
   ]
  },
  {
   "cell_type": "code",
   "execution_count": 70,
   "metadata": {},
   "outputs": [],
   "source": [
    "def print_names(songs_list):\n",
    "    titles=[]\n",
    "    for song in songs_list:\n",
    "        new_df=songs_metadata_df.loc[songs_metadata_df.song_id==song].values\n",
    "        title=new_df[0,1]+' - '+new_df[0,2]\n",
    "        print(title)\n",
    "        titles.append(title)\n",
    "    return titles"
   ]
  },
  {
   "cell_type": "markdown",
   "metadata": {},
   "source": [
    "Predict topK songs for a user"
   ]
  },
  {
   "cell_type": "code",
   "execution_count": 44,
   "metadata": {},
   "outputs": [
    {
     "name": "stdout",
     "output_type": "stream",
     "text": [
      "Old Man Time (Album Version) - In Between Now And Then\n",
      "Who's Real - The Last Kiss\n",
      "The Way I Feel (Not Our Master) - 12 Stones\n",
      "Con Mis Manos - Pafuera Telarañas\n",
      "Me & Mr Jones - Me & Mr Jones\n",
      "Constellations - In Between Dreams\n",
      "If I Could - In Between Dreams\n",
      "Do You Remember - In Between Dreams\n",
      "Beautiful Morning - Da Capo\n",
      "Sandman - Here & Now\n"
     ]
    }
   ],
   "source": [
    "topk_pred_user_SVD= findTopKSongUser ('bba304c2ed4ef5ae8f15fd4fca4a694cf6c0e8a0',predict_user_dict_SVD,k )\n",
    "titles=print_names(topk_pred_user_SVD)"
   ]
  },
  {
   "cell_type": "markdown",
   "metadata": {},
   "source": [
    "Actual TopK songs from the test data"
   ]
  },
  {
   "cell_type": "code",
   "execution_count": 45,
   "metadata": {},
   "outputs": [
    {
     "name": "stdout",
     "output_type": "stream",
     "text": [
      "Part Of The Process - Parts Of The Process\n",
      "Alala (Album) - Cansei De Ser Sexy\n",
      "Sandman - Here & Now\n",
      "Con Mis Manos - Pafuera Telarañas\n",
      "Big Calm - Big Calm\n",
      "Fear And Love - Big Calm\n",
      "Do You Remember - In Between Dreams\n",
      "Who's Real - The Last Kiss\n",
      "Constellations - In Between Dreams\n",
      "If I Could - In Between Dreams\n"
     ]
    }
   ],
   "source": [
    "\n",
    "topk_test_user= findTopKSongUser ('bba304c2ed4ef5ae8f15fd4fca4a694cf6c0e8a0',test_user_dict,k )\n",
    "titles=print_names(topk_test_user)"
   ]
  },
  {
   "cell_type": "code",
   "execution_count": 33,
   "metadata": {},
   "outputs": [],
   "source": [
    "def findTopKSongs(user_dic,k):\n",
    "    user_topKsongs= {}\n",
    "    for user in user_dic.keys():\n",
    "        user_topKsongs[user]= findTopKSongUser(user,user_dic,k)\n",
    "    return user_topKsongs\n",
    "    "
   ]
  },
  {
   "cell_type": "code",
   "execution_count": 47,
   "metadata": {},
   "outputs": [],
   "source": [
    "topksongs_pred_SVD= findTopKSongs(predict_user_dict_SVD,k)\n"
   ]
  },
  {
   "cell_type": "code",
   "execution_count": 49,
   "metadata": {},
   "outputs": [],
   "source": [
    "topksongs_pred_SVDPP= findTopKSongs(predict_user_dict_SVDPP,k)\n"
   ]
  },
  {
   "cell_type": "code",
   "execution_count": 34,
   "metadata": {},
   "outputs": [],
   "source": [
    "topksongs_test= findTopKSongs(test_user_dict,k)\n"
   ]
  },
  {
   "cell_type": "markdown",
   "metadata": {},
   "source": [
    "# Evaluation"
   ]
  },
  {
   "cell_type": "markdown",
   "metadata": {},
   "source": [
    "Precision for a user"
   ]
  },
  {
   "cell_type": "code",
   "execution_count": 56,
   "metadata": {},
   "outputs": [],
   "source": [
    "def findPrecision_user(pred_user,test_user,k):\n",
    "    tp=len(list(set(pred_user[:k]).intersection(test_user[:k])))\n",
    "    precision= tp/min(k,len(test_user))\n",
    "    #recall= tp/len(test)\n",
    "    #print('precision is :',precision )\n",
    "    #print('recall is :', recall)\n",
    "    return precision\n",
    "        "
   ]
  },
  {
   "cell_type": "code",
   "execution_count": 78,
   "metadata": {},
   "outputs": [],
   "source": [
    "precision_user= findPrecision_user(topk_pred_user_SVD,topk_test_user,k)"
   ]
  },
  {
   "cell_type": "code",
   "execution_count": 79,
   "metadata": {},
   "outputs": [
    {
     "name": "stdout",
     "output_type": "stream",
     "text": [
      "0.6\n"
     ]
    }
   ],
   "source": [
    "print(precision_user)"
   ]
  },
  {
   "cell_type": "code",
   "execution_count": 24,
   "metadata": {},
   "outputs": [],
   "source": [
    "def order_songs(user, df ):\n",
    "    sort_list= (sorted(df[user].items(), key=lambda x: x[1], reverse=True))\n",
    "    return sort_list, dict(sort_list)\n",
    "\n",
    "def find_test_relscores(dic):\n",
    "    rel_scores_list={}\n",
    "    rel_scores_dic={}\n",
    "    for user in dic.keys():\n",
    "        rel_scores_list[user],rel_scores_dic[user]=order_songs(user,dic)   \n",
    "    return rel_scores_list,rel_scores_dic\n",
    "    "
   ]
  },
  {
   "cell_type": "code",
   "execution_count": 25,
   "metadata": {},
   "outputs": [],
   "source": [
    "test_rel_scores_list,test_rel_scores_dict = find_test_relscores(test_user_dict)\n"
   ]
  },
  {
   "cell_type": "markdown",
   "metadata": {},
   "source": [
    "Find NDCG for a user"
   ]
  },
  {
   "cell_type": "code",
   "execution_count": 26,
   "metadata": {},
   "outputs": [],
   "source": [
    "def find_NDCG_user(klist_pred,klist_test,rankdict):\n",
    "    \n",
    "    #dcgk\n",
    "    dcg=sum(sum( ((rankdict[el] if el in rankdict else 0 )/ np.log2(np.arange(2, len(klist_pred) + 2))) for el in klist_pred))\n",
    "    #print('dcg :', dcg)\n",
    "    idcg= sum(sum( (np.power(2, rankdict[el] if el in rankdict else 0) - 1) / np.log2(np.arange(2, len(klist_test) + 2)) for el in klist_test))\n",
    "    #print('idcg :', idcg)\n",
    "    return dcg/idcg"
   ]
  },
  {
   "cell_type": "code",
   "execution_count": 83,
   "metadata": {},
   "outputs": [
    {
     "data": {
      "text/plain": [
       "0.7518235747603215"
      ]
     },
     "execution_count": 83,
     "metadata": {},
     "output_type": "execute_result"
    }
   ],
   "source": [
    "find_NDCG_user(topk_pred_user_SVD,topk_test_user,test_rel_scores_dict['bba304c2ed4ef5ae8f15fd4fca4a694cf6c0e8a0'])"
   ]
  },
  {
   "cell_type": "code",
   "execution_count": 27,
   "metadata": {},
   "outputs": [],
   "source": [
    "def evaluate(pred, test,k,scores_dict): \n",
    "    #print('k is ',k)\n",
    "    avg_precision= np.mean(list(findPrecision_user(pred[user],test[user],k) for user in test.keys()))\n",
    "    #print('Average precision is:',avg_precision )\n",
    "    avg_ndcg= np.mean(list(find_NDCG_user(pred[user][:k],test[user][:k],scores_dict[user]) for user in test.keys()))\n",
    "    #print('Average NDCG is:',avg_ndcg )\n",
    "    return avg_precision,avg_ndcg"
   ]
  },
  {
   "cell_type": "code",
   "execution_count": 90,
   "metadata": {},
   "outputs": [
    {
     "name": "stdout",
     "output_type": "stream",
     "text": [
      "Average precision is: 0.8551436488260171\n",
      "Average NDCG is: 0.8384448190239389\n"
     ]
    }
   ],
   "source": [
    "precision_SVD,ndcg_SVD= evaluate(topksongs_pred_SVD,topksongs_test,5,test_rel_scores_dict)\n",
    "print('Average precision is:',precision_SVD )\n",
    "print('Average NDCG is:',ndcg_SVD )"
   ]
  },
  {
   "cell_type": "code",
   "execution_count": 91,
   "metadata": {},
   "outputs": [
    {
     "name": "stdout",
     "output_type": "stream",
     "text": [
      "Average precision is: 0.8575061980457926\n",
      "Average NDCG is: 0.8395972319455253\n"
     ]
    }
   ],
   "source": [
    "precision_SVDPP,ndcg_SVDPP= evaluate(topksongs_pred_SVDPP,topksongs_test,5,test_rel_scores_dict)\n",
    "print('Average precision is:',precision_SVDPP )\n",
    "print('Average NDCG is:',ndcg_SVDPP )"
   ]
  },
  {
   "cell_type": "code",
   "execution_count": 45,
   "metadata": {},
   "outputs": [],
   "source": [
    "def eval_model(pred_user_dict,act_user_dict,rank_dic,krange):\n",
    "    prec_list=[]\n",
    "    ndcg_list=[]\n",
    "    for kval in krange:\n",
    "        topksongs_pr= findTopKSongs(pred_user_dict,kval)\n",
    "        topksongs_ac= findTopKSongs(act_user_dict,kval)\n",
    "        precision,ndcg = evaluate(topksongs_pr,topksongs_ac,kval,rank_dic)\n",
    "        prec_list.append(precision)\n",
    "        ndcg_list.append(ndcg)\n",
    "    return prec_list,ndcg_list\n"
   ]
  },
  {
   "cell_type": "code",
   "execution_count": 29,
   "metadata": {},
   "outputs": [],
   "source": [
    "krange= list(range(2,15))"
   ]
  },
  {
   "cell_type": "code",
   "execution_count": 93,
   "metadata": {},
   "outputs": [],
   "source": [
    "\n",
    "precision_vals_SVD, ndcg_vals_SVD= eval_model(predict_user_dict_SVD,test_user_dict,test_rel_scores_dict,krange)"
   ]
  },
  {
   "cell_type": "markdown",
   "metadata": {},
   "source": [
    "Precision vs K for SVD"
   ]
  },
  {
   "cell_type": "code",
   "execution_count": 95,
   "metadata": {},
   "outputs": [
    {
     "data": {
      "image/png": "[encoded data removed]",
      "text/plain": [
       "<Figure size 432x288 with 1 Axes>"
      ]
     },
     "metadata": {
      "needs_background": "light"
     },
     "output_type": "display_data"
    }
   ],
   "source": [
    "import matplotlib.pyplot as plt\n",
    "plt.plot(np.array(krange),np.array(precision_vals_SVD))\n",
    "plt.show()"
   ]
  },
  {
   "cell_type": "markdown",
   "metadata": {},
   "source": [
    "NDCG vs K for SVD"
   ]
  },
  {
   "cell_type": "code",
   "execution_count": 96,
   "metadata": {},
   "outputs": [
    {
     "data": {
      "image/png": "[encoded data removed]",
      "text/plain": [
       "<Figure size 432x288 with 1 Axes>"
      ]
     },
     "metadata": {
      "needs_background": "light"
     },
     "output_type": "display_data"
    }
   ],
   "source": [
    "plt.plot(np.array(krange),np.array(ndcg_vals_SVD))\n",
    "plt.show()"
   ]
  },
  {
   "cell_type": "code",
   "execution_count": 120,
   "metadata": {},
   "outputs": [],
   "source": [
    "precision_vals_SVDPP, ndcg_vals_SVDPP= eval_model(predict_user_dict_SVDPP,test_user_dict,test_rel_scores_dict,krange)"
   ]
  },
  {
   "cell_type": "markdown",
   "metadata": {},
   "source": [
    "Precision vs K for SVD++"
   ]
  },
  {
   "cell_type": "code",
   "execution_count": 121,
   "metadata": {},
   "outputs": [
    {
     "data": {
      "image/png": "[encoded data removed]",
      "text/plain": [
       "<Figure size 432x288 with 1 Axes>"
      ]
     },
     "metadata": {
      "needs_background": "light"
     },
     "output_type": "display_data"
    }
   ],
   "source": [
    "import matplotlib.pyplot as plt\n",
    "plt.plot(np.array(krange),np.array(precision_vals_SVDPP))\n",
    "plt.show()"
   ]
  },
  {
   "cell_type": "markdown",
   "metadata": {},
   "source": [
    "NDCG vs K for SVD++"
   ]
  },
  {
   "cell_type": "code",
   "execution_count": 122,
   "metadata": {},
   "outputs": [
    {
     "data": {
      "image/png": "[encoded data removed]",
      "text/plain": [
       "<Figure size 432x288 with 1 Axes>"
      ]
     },
     "metadata": {
      "needs_background": "light"
     },
     "output_type": "display_data"
    }
   ],
   "source": [
    "plt.plot(np.array(krange),np.array(ndcg_vals_SVDPP))\n",
    "plt.show()"
   ]
  },
  {
   "cell_type": "markdown",
   "metadata": {
    "collapsed": true
   },
   "source": [
    "## Popularity Based Model"
   ]
  },
  {
   "cell_type": "code",
   "execution_count": 35,
   "metadata": {},
   "outputs": [],
   "source": [
    "song_tot_count ={}\n",
    "for song in list(train_data['song_id'].unique()):\n",
    "    song_tot_count[song]= np.sum(train_data.loc[train_data.song_id==song]['listen_count'])\n"
   ]
  },
  {
   "cell_type": "code",
   "execution_count": 37,
   "metadata": {},
   "outputs": [],
   "source": [
    "import pickle\n",
    "pickle.dump( song_tot_count, open( \"song_listen_scores.p\", \"wb\" ) )"
   ]
  },
  {
   "cell_type": "code",
   "execution_count": 38,
   "metadata": {},
   "outputs": [],
   "source": [
    "def find_topK_pop_songs_user(k):\n",
    "    topk_pop_songs=[]\n",
    "    top=(sorted(song_tot_count.items(), key=lambda x: x[1], reverse=True))[:k]\n",
    "    topk_pop_songs= [el[0] for el in top[:k]]\n",
    "    return topk_pop_songs"
   ]
  },
  {
   "cell_type": "code",
   "execution_count": 63,
   "metadata": {},
   "outputs": [
    {
     "name": "stdout",
     "output_type": "stream",
     "text": [
      "Sehr kosmisch - Musik von Harmonia\n",
      "Undo - Vespertine Live\n",
      "You're The One - If There Was A Way\n",
      "Dog Days Are Over (Radio Edit) - Now That's What I Call Music! 75\n",
      "Revelry - Only By The Night\n",
      "Horn Concerto No. 4 in E flat K495: II. Romance (Andante cantabile) - Mozart - Eine kleine Nachtmusik\n",
      "Secrets - Waking Up\n",
      "Hey_ Soul Sister - Save Me_ San Francisco\n",
      "Fireflies - Karaoke Monthly Vol. 2 (January 2010)\n",
      "Tive Sim - Nova Bis-Cartola\n"
     ]
    }
   ],
   "source": [
    "topk_pop_songs_user= find_topK_pop_songs_user(k)\n",
    "p_names= print_names(topk_pop_songs_user)"
   ]
  },
  {
   "cell_type": "code",
   "execution_count": 41,
   "metadata": {},
   "outputs": [],
   "source": [
    "test_users= list(test_user_dict.keys())\n",
    "def find_topk_pop_songs(k):\n",
    "    topk_pop_songs={}\n",
    "    for user in test_users:\n",
    "        topk_pop_songs[user]= topk_pop_songs_user\n",
    "    return topk_pop_songs\n",
    "    "
   ]
  },
  {
   "cell_type": "code",
   "execution_count": 42,
   "metadata": {
    "scrolled": false
   },
   "outputs": [],
   "source": [
    "topk_pop_songs_pred=find_topk_pop_songs(k)\n",
    "topk_pop_songs_test=topksongs_test"
   ]
  },
  {
   "cell_type": "code",
   "execution_count": 43,
   "metadata": {},
   "outputs": [
    {
     "data": {
      "text/plain": [
       "0.0"
      ]
     },
     "execution_count": 43,
     "metadata": {},
     "output_type": "execute_result"
    }
   ],
   "source": [
    "find_NDCG_user(topk_pop_songs_pred['bba304c2ed4ef5ae8f15fd4fca4a694cf6c0e8a0'],topk_pop_songs_test['bba304c2ed4ef5ae8f15fd4fca4a694cf6c0e8a0'],test_rel_scores_dict['bba304c2ed4ef5ae8f15fd4fca4a694cf6c0e8a0'])"
   ]
  },
  {
   "cell_type": "code",
   "execution_count": 83,
   "metadata": {},
   "outputs": [
    {
     "name": "stdout",
     "output_type": "stream",
     "text": [
      "Average precision is: 0.02344125224831073\n",
      "Average NDCG is: 0.03390704613728665\n"
     ]
    }
   ],
   "source": [
    "precision, ndcg=evaluate(topk_pop_songs_pred,topk_pop_songs_test,5,test_rel_scores_dict)\n",
    "print('Average precision is:',precision )\n",
    "print('Average NDCG is:',ndcg )"
   ]
  },
  {
   "cell_type": "markdown",
   "metadata": {},
   "source": [
    "Top10 Popular songs predicted:"
   ]
  },
  {
   "cell_type": "code",
   "execution_count": 71,
   "metadata": {},
   "outputs": [
    {
     "name": "stdout",
     "output_type": "stream",
     "text": [
      "Sehr kosmisch - Musik von Harmonia\n",
      "Undo - Vespertine Live\n",
      "You're The One - If There Was A Way\n",
      "Dog Days Are Over (Radio Edit) - Now That's What I Call Music! 75\n",
      "Revelry - Only By The Night\n",
      "Horn Concerto No. 4 in E flat K495: II. Romance (Andante cantabile) - Mozart - Eine kleine Nachtmusik\n",
      "Secrets - Waking Up\n",
      "Hey_ Soul Sister - Save Me_ San Francisco\n",
      "Fireflies - Karaoke Monthly Vol. 2 (January 2010)\n",
      "Tive Sim - Nova Bis-Cartola\n"
     ]
    }
   ],
   "source": [
    "p_names= print_names(topk_pop_songs_pred['bba304c2ed4ef5ae8f15fd4fca4a694cf6c0e8a0'])"
   ]
  },
  {
   "cell_type": "markdown",
   "metadata": {},
   "source": [
    "Top 10 songs as per the test data"
   ]
  },
  {
   "cell_type": "code",
   "execution_count": 72,
   "metadata": {},
   "outputs": [
    {
     "name": "stdout",
     "output_type": "stream",
     "text": [
      "Part Of The Process - Parts Of The Process\n",
      "Alala (Album) - Cansei De Ser Sexy\n",
      "Sandman - Here & Now\n",
      "Con Mis Manos - Pafuera Telarañas\n",
      "Big Calm - Big Calm\n",
      "Fear And Love - Big Calm\n",
      "Do You Remember - In Between Dreams\n",
      "Who's Real - The Last Kiss\n",
      "Constellations - In Between Dreams\n",
      "If I Could - In Between Dreams\n"
     ]
    }
   ],
   "source": [
    "topk_test_user= findTopKSongUser ('bba304c2ed4ef5ae8f15fd4fca4a694cf6c0e8a0',test_user_dict,k )\n",
    "titles=print_names(topk_test_user)"
   ]
  },
  {
   "cell_type": "code",
   "execution_count": 78,
   "metadata": {},
   "outputs": [],
   "source": [
    "def popularity_model(act_user_dict,rank_dic,krange):\n",
    "    prec_list=[]\n",
    "    ndcg_list=[]\n",
    "    for kval in krange:\n",
    "        topksongs_pr= topk_pop_songs_pred\n",
    "        topksongs_ac= findTopKSongs(act_user_dict,kval)\n",
    "        precision,ndcg = evaluate(topksongs_pr,topksongs_ac,kval,rank_dic)\n",
    "        prec_list.append(precision)\n",
    "        ndcg_list.append(ndcg)\n",
    "    return prec_list,ndcg_list\n"
   ]
  },
  {
   "cell_type": "code",
   "execution_count": 79,
   "metadata": {},
   "outputs": [],
   "source": [
    "krange= list(range(2,15))\n",
    "precision_vals, ndcg_vals= popularity_model(test_user_dict,test_rel_scores_dict,krange)"
   ]
  },
  {
   "cell_type": "code",
   "execution_count": 80,
   "metadata": {},
   "outputs": [],
   "source": [
    "import matplotlib.pyplot as plt"
   ]
  },
  {
   "cell_type": "markdown",
   "metadata": {},
   "source": [
    "Precision vs K for Popularity model"
   ]
  },
  {
   "cell_type": "code",
   "execution_count": 81,
   "metadata": {},
   "outputs": [
    {
     "data": {
      "image/png": "[encoded data removed]",
      "text/plain": [
       "<Figure size 432x288 with 1 Axes>"
      ]
     },
     "metadata": {
      "needs_background": "light"
     },
     "output_type": "display_data"
    }
   ],
   "source": [
    "\n",
    "plt.plot(np.array(krange),np.array(precision_vals))\n",
    "plt.show()"
   ]
  },
  {
   "cell_type": "markdown",
   "metadata": {},
   "source": [
    "NDCG vs K for Popularity model"
   ]
  },
  {
   "cell_type": "code",
   "execution_count": 82,
   "metadata": {},
   "outputs": [
    {
     "data": {
      "image/png": "[encoded data removed]",
      "text/plain": [
       "<Figure size 432x288 with 1 Axes>"
      ]
     },
     "metadata": {
      "needs_background": "light"
     },
     "output_type": "display_data"
    }
   ],
   "source": [
    "plt.plot(np.array(krange),np.array(ndcg_vals))\n",
    "plt.show()"
   ]
  },
  {
   "cell_type": "markdown",
   "metadata": {},
   "source": [
    "# BPR Model"
   ]
  },
  {
   "cell_type": "code",
   "execution_count": null,
   "metadata": {},
   "outputs": [],
   "source": [
    "from theano_bpr import BPR\n",
    "\n",
    "raw_train_data = []\n",
    "\n",
    "for row in train_data.itertuples():\n",
    "    raw_train_data.append((row.user_id, row.song_id))\n",
    "\n",
    "raw_test_data = []\n",
    "\n",
    "for row in test_data.itertuples():\n",
    "    raw_test_data.append((row.user_id, row.song_id))"
   ]
  },
  {
   "cell_type": "code",
   "execution_count": null,
   "metadata": {},
   "outputs": [],
   "source": [
    "def load_data_from_array(array, users_to_i = {}, items_to_i = {}):\n",
    "    data = []\n",
    "    if len(users_to_i.values()) > 0:\n",
    "        u = max(users_to_i.values()) + 1\n",
    "    else:\n",
    "        u = 0\n",
    "    if len(items_to_i.values()) > 0:\n",
    "        i = max(items_to_i.values()) + 1\n",
    "    else:\n",
    "        i = 0\n",
    "    for user, item in array:\n",
    "        if user not in users_to_i:\n",
    "            users_to_i[user] = u\n",
    "            u += 1\n",
    "        if item not in items_to_i:\n",
    "            items_to_i[item] = i\n",
    "            i += 1\n",
    "        data.append((users_to_i[user], items_to_i[item]))\n",
    "    return data, users_to_i, items_to_i\n"
   ]
  },
  {
   "cell_type": "code",
   "execution_count": null,
   "metadata": {},
   "outputs": [],
   "source": [
    "training_data_bpr, users_to_index, items_to_index = load_data_from_array(raw_train_data)\n",
    "testing_data_bpr, users_to_index, items_to_index = load_data_from_array(raw_test_data, users_to_index, items_to_index)\n"
   ]
  },
  {
   "cell_type": "code",
   "execution_count": null,
   "metadata": {},
   "outputs": [],
   "source": [
    "bpr = BPR(10, len(users_to_index.keys()), len(items_to_index.keys()))\n",
    "bpr.train(training_data_bpr, epochs=50)\n"
   ]
  },
  {
   "cell_type": "code",
   "execution_count": null,
   "metadata": {},
   "outputs": [],
   "source": [
    "bpr.test(testing_data_bpr)\n"
   ]
  },
  {
   "cell_type": "code",
   "execution_count": null,
   "metadata": {},
   "outputs": [],
   "source": [
    "pred = bpr.top_predictions(1,15)\n",
    "inverted_dict_items = dict([[v,k] for k,v in items_to_index.items()])\n",
    "inverted_dict_users = dict([[v,k] for k,v in users_to_index.items()])\n",
    "\n",
    "def get_songs(list):\n",
    "    songs = []\n",
    "    for song in list:\n",
    "        songs.append(inverted_dict_items[song])\n",
    "    return songs\n",
    "\n",
    "top_k = 10\n",
    "predictions_bpr = {}\n",
    "for entry in raw_test_data:\n",
    "    pred = bpr.top_predictions(users_to_index[entry[0]], top_k)\n",
    "    predictions_bpr[entry[0]] = get_songs(pred)\n",
    "    \n"
   ]
  },
  {
   "cell_type": "code",
   "execution_count": null,
   "metadata": {},
   "outputs": [],
   "source": [
    "predict_bpr_values = []\n",
    "\n",
    "for row in test_data.itertuples():\n",
    "    predict_bpr_values.append(bpr.prediction(users_to_index[row.user_id], items_to_index[row.song_id]) )\n",
    "    \n",
    "def normalized (x):\n",
    "    return (x - min_bpr)/(max_bpr - min_bpr)\n",
    "\n"
   ]
  },
  {
   "cell_type": "code",
   "execution_count": null,
   "metadata": {},
   "outputs": [],
   "source": [
    "predict_bpr_normalized = []\n",
    "\n",
    "for x in predict_bpr_values:\n",
    "    predict_bpr_normalized.append(1 + normalized(x))"
   ]
  },
  {
   "cell_type": "code",
   "execution_count": 1,
   "metadata": {},
   "outputs": [],
   "source": [
    "import pickle\n",
    "#pickle.dump( predict_bpr_normalized, open( \"bpr.p\", \"wb\" ) )\n"
   ]
  },
  {
   "cell_type": "code",
   "execution_count": 2,
   "metadata": {},
   "outputs": [],
   "source": [
    "file3 = open(\"bpr.p\", 'rb')\n",
    "predict_bpr_normalized = pickle.load(file3)\n",
    "file3.close()"
   ]
  },
  {
   "cell_type": "code",
   "execution_count": 15,
   "metadata": {},
   "outputs": [],
   "source": [
    "predict_data_bpr = test_data.copy()\n",
    "predict_data_bpr['listen_count']= predict_bpr_normalized\n"
   ]
  },
  {
   "cell_type": "code",
   "execution_count": 24,
   "metadata": {},
   "outputs": [],
   "source": [
    "predict_user_dict_BPR= findUSerCounts(predict_data_bpr)\n"
   ]
  },
  {
   "cell_type": "code",
   "execution_count": 30,
   "metadata": {},
   "outputs": [],
   "source": [
    "topksongs_pred_bpr= findTopKSongs(predict_user_dict_BPR,10)\n"
   ]
  },
  {
   "cell_type": "code",
   "execution_count": 37,
   "metadata": {},
   "outputs": [
    {
     "data": {
      "text/plain": [
       "(0.8501327110981478, 0.8357159901103953)"
      ]
     },
     "execution_count": 37,
     "metadata": {},
     "output_type": "execute_result"
    }
   ],
   "source": [
    "evaluate(topksongs_pred_bpr, topksongs_test,5, test_rel_scores_dict)"
   ]
  },
  {
   "cell_type": "code",
   "execution_count": 38,
   "metadata": {},
   "outputs": [],
   "source": [
    "def BPR(preds,k):\n",
    "    pred_ens=np.mean(np.array(preds),axis=0)\n",
    "    print(\"RMS Error for BPR approach is \",find_RMS(pred_ens,ground_truth))\n",
    "    print(\"MAE Error for BPR approach is \", find_MAE(pred_ens,ground_truth))\n",
    "    predict_data_ens = test_data.copy()\n",
    "    predict_data_ens['listen_count']= pred_ens\n",
    "    predict_user_dict_ens= findUSerCounts(predict_data_ens)\n",
    "    topksongs_pred_ens= findTopKSongs(predict_user_dict_ens,k)\n",
    "    return predict_user_dict_ens,topksongs_pred_ens\n"
   ]
  },
  {
   "cell_type": "code",
   "execution_count": 44,
   "metadata": {},
   "outputs": [],
   "source": [
    "predictions_bpr = []\n",
    "predictions_bpr.append(predict_bpr_normalized)"
   ]
  },
  {
   "cell_type": "code",
   "execution_count": 45,
   "metadata": {},
   "outputs": [
    {
     "name": "stdout",
     "output_type": "stream",
     "text": [
      "RMS Error for BPR approach is  0.5473550955847533\n",
      "MAE Error for BPR approach is  0.49253572901142967\n"
     ]
    }
   ],
   "source": [
    "predict_user_dict_bpr,topksongs_pred_bpr= BPR(predictions_bpr ,k)"
   ]
  },
  {
   "cell_type": "code",
   "execution_count": 47,
   "metadata": {},
   "outputs": [
    {
     "name": "stdout",
     "output_type": "stream",
     "text": [
      "Average precision is: 0.8501327110981478\n",
      "Average NDCG is: 0.8357159901103953\n"
     ]
    }
   ],
   "source": [
    "precision_bpr,ndcg_bpr= evaluate(topksongs_pred_bpr,topksongs_test,5,test_rel_scores_dict)\n",
    "print('Average precision is:',precision_bpr)\n",
    "print('Average NDCG is:',ndcg_bpr )"
   ]
  },
  {
   "cell_type": "code",
   "execution_count": 48,
   "metadata": {},
   "outputs": [],
   "source": [
    "krange= list(range(2,15))\n",
    "precision_vals_bpr, ndcg_vals_bpr= eval_model(predict_user_dict_bpr,test_user_dict,test_rel_scores_dict,krange)"
   ]
  },
  {
   "cell_type": "code",
   "execution_count": 51,
   "metadata": {},
   "outputs": [
    {
     "data": {
      "image/png": "[encoded data removed]",
      "text/plain": [
       "<Figure size 432x288 with 1 Axes>"
      ]
     },
     "metadata": {
      "needs_background": "light"
     },
     "output_type": "display_data"
    }
   ],
   "source": [
    "plt.plot(np.array(krange),np.array(precision_vals_bpr))\n",
    "plt.show()"
   ]
  },
  {
   "cell_type": "code",
   "execution_count": 52,
   "metadata": {},
   "outputs": [
    {
     "data": {
      "image/png": "[encoded data removed]",
      "text/plain": [
       "<Figure size 432x288 with 1 Axes>"
      ]
     },
     "metadata": {
      "needs_background": "light"
     },
     "output_type": "display_data"
    }
   ],
   "source": [
    "plt.plot(np.array(krange),np.array(ndcg_vals_bpr))\n",
    "plt.show()"
   ]
  },
  {
   "cell_type": "markdown",
   "metadata": {},
   "source": [
    "# Neural Collaberative Filtering Model"
   ]
  },
  {
   "cell_type": "code",
   "execution_count": null,
   "metadata": {},
   "outputs": [],
   "source": [
    "import pandas\n",
    "from sklearn.metrics import mean_squared_error\n",
    "from math import sqrt\n",
    "from sklearn.metrics import mean_absolute_error\n",
    "from sklearn.model_selection import train_test_split\n",
    "import numpy as np\n",
    "import time\n",
    "from sklearn.externals import joblib\n",
    "import keras\n",
    "import math"
   ]
  },
  {
   "cell_type": "code",
   "execution_count": null,
   "metadata": {},
   "outputs": [],
   "source": [
    "def reemovNestings(l):\n",
    "    output = []\n",
    "    for i in l:\n",
    "        if type(i) == list:\n",
    "            reemovNestings(i)\n",
    "        else:\n",
    "            output.append(i)\n",
    "    return output"
   ]
  },
  {
   "cell_type": "code",
   "execution_count": null,
   "metadata": {},
   "outputs": [],
   "source": [
    "triplets_file = '10000.txt'\n",
    "songs_metadata_file = 'song_data.csv'\n",
    "\n",
    "song_df_1 = pandas.read_table(triplets_file,header=None)\n",
    "song_df_1.columns = ['user_id', 'song_id', 'listen_count']\n",
    "\n",
    "#Read song  metadata\n",
    "song_df_2 =  pandas.read_csv(songs_metadata_file)\n",
    "\n",
    "#Merge the two dataframes above to create input dataframe for recommender systems\n",
    "song_df = pandas.merge(song_df_1, song_df_2.drop_duplicates(['song_id']), on=\"song_id\", how=\"left\")"
   ]
  },
  {
   "cell_type": "code",
   "execution_count": null,
   "metadata": {},
   "outputs": [],
   "source": [
    "k ={}\n",
    "l={}\n",
    "for index, row in song_df_1.iterrows():\n",
    "    usId = row['user_id']\n",
    "    sgId = row['song_id']\n",
    "    if usId not in k:\n",
    "        k[usId]=len(k)\n",
    "    if sgId not in l:\n",
    "        l[sgId]=len(l)\n",
    "\n",
    "user_ids = []\n",
    "song_ids = []\n",
    "for index, row in song_df_1.iterrows():\n",
    "    user_ids.append(k[row['user_id']])\n",
    "    song_ids.append(l[row['song_id']])\n",
    "\n",
    "song_df_1['us_id'] = user_ids\n",
    "song_df_1['s_id'] = song_ids\n",
    "\n",
    "del song_df_1['song_id']\n",
    "del song_df_1['user_id']\n",
    "\n",
    "#print(\"Final\")\n",
    "#print(song_df_1.head())\n",
    "\n",
    "#song_df_1['s_id'] = song_df_1['s_id'].apply(lambda x: math.log(x))\n",
    "song_df_1['listen_count'] = song_df_1['listen_count'][song_df_1['listen_count'] != 0 ].apply(lambda x: 1+np.log10(x))\n",
    "#print(song_df_1.head())\n"
   ]
  },
  {
   "cell_type": "code",
   "execution_count": null,
   "metadata": {},
   "outputs": [],
   "source": [
    "train, test = train_test_split(song_df_1, test_size=0.2, random_state=0)\n",
    "y_true = test.listen_count"
   ]
  },
  {
   "cell_type": "code",
   "execution_count": null,
   "metadata": {},
   "outputs": [],
   "source": [
    "n_latent_factors_user = 8\n",
    "n_latent_factors_movie = 10\n",
    "n_latent_factors_mf = 3\n",
    "n_users, n_movies = 76353, 10000\n",
    "\n",
    "movie_input = keras.layers.Input(shape=[1],name='Item')\n",
    "movie_embedding_mlp = keras.layers.Embedding(n_movies + 1, n_latent_factors_movie, name='Movie-Embedding-MLP')(movie_input)\n",
    "movie_vec_mlp = keras.layers.Flatten(name='FlattenMovies-MLP')(movie_embedding_mlp)\n",
    "movie_vec_mlp = keras.layers.Dropout(0.2)(movie_vec_mlp)\n",
    "\n",
    "movie_embedding_mf = keras.layers.Embedding(n_movies + 1, n_latent_factors_mf, name='Movie-Embedding-MF')(movie_input)\n",
    "movie_vec_mf = keras.layers.Flatten(name='FlattenMovies-MF')(movie_embedding_mf)\n",
    "movie_vec_mf = keras.layers.Dropout(0.2)(movie_vec_mf)\n",
    "\n",
    "\n",
    "user_input = keras.layers.Input(shape=[1],name='User')\n",
    "user_vec_mlp = keras.layers.Flatten(name='FlattenUsers-MLP')(keras.layers.Embedding(n_users + 1, n_latent_factors_user,name='User-Embedding-MLP')(user_input))\n",
    "user_vec_mlp = keras.layers.Dropout(0.2)(user_vec_mlp)\n",
    "\n",
    "user_vec_mf = keras.layers.Flatten(name='FlattenUsers-MF')(keras.layers.Embedding(n_users + 1, n_latent_factors_mf,name='User-Embedding-MF')(user_input))\n",
    "user_vec_mf = keras.layers.Dropout(0.2)(user_vec_mf)\n",
    "\n",
    "\n",
    "concat = keras.layers.concatenate([movie_vec_mlp, user_vec_mlp],name='Concat')\n",
    "concat_dropout = keras.layers.Dropout(0.2)(concat)\n",
    "dense = keras.layers.Dense(200,name='FullyConnected')(concat_dropout)\n",
    "dense_batch = keras.layers.BatchNormalization(name='Batch')(dense)\n",
    "dropout_1 = keras.layers.Dropout(0.2,name='Dropout-1')(dense_batch)\n",
    "dense_2 = keras.layers.Dense(100,name='FullyConnected-1')(dropout_1)\n",
    "dense_batch_2 = keras.layers.BatchNormalization(name='Batch-2')(dense_2)\n",
    "\n",
    "\n",
    "dropout_2 = keras.layers.Dropout(0.2,name='Dropout-2')(dense_batch_2)\n",
    "dense_3 = keras.layers.Dense(50,name='FullyConnected-2')(dropout_2)\n",
    "dense_4 = keras.layers.Dense(20,name='FullyConnected-3', activation='relu')(dense_3)"
   ]
  },
  {
   "cell_type": "code",
   "execution_count": 6,
   "metadata": {},
   "outputs": [
    {
     "name": "stdout",
     "output_type": "stream",
     "text": [
      " __________________________________________________________________________________________________\n",
      " Layer (type)                    Output Shape         Param #     Connected to\n",
      " ==================================================================================================\n",
      " Item (InputLayer)               (None, 1)            0\n",
      " __________________________________________________________________________________________________\n",
      " User (InputLayer)               (None, 1)            0\n",
      " __________________________________________________________________________________________________\n",
      " Movie-Embedding-MLP (Embedding) (None, 1, 10)        100010      Item[0][0]\n",
      " __________________________________________________________________________________________________\n",
      " User-Embedding-MLP (Embedding)  (None, 1, 8)         610832      User[0][0]\n",
      " __________________________________________________________________________________________________\n",
      " FlattenMovies-MLP (Flatten)     (None, 10)           0           Movie-Embedding-MLP[0][0]\n",
      " __________________________________________________________________________________________________\n",
      " FlattenUsers-MLP (Flatten)      (None, 8)            0           User-Embedding-MLP[0][0]\n",
      "                                                                                                                                                                                           46,1          Top\n",
      " __________________________________________________________________________________________________\n",
      " FlattenUsers-MLP (Flatten)      (None, 8)            0           User-Embedding-MLP[0][0]\n",
      " __________________________________________________________________________________________________\n",
      " dropout_1 (Dropout)             (None, 10)           0           FlattenMovies-MLP[0][0]\n",
      " __________________________________________________________________________________________________\n",
      " dropout_3 (Dropout)             (None, 8)            0           FlattenUsers-MLP[0][0]\n",
      " __________________________________________________________________________________________________\n",
      " Concat (Concatenate)            (None, 18)           0           dropout_1[0][0]\n",
      "                                                                  dropout_3[0][0]\n",
      " __________________________________________________________________________________________________\n",
      " dropout_5 (Dropout)             (None, 18)           0           Concat[0][0]\n",
      " __________________________________________________________________________________________________\n",
      " FullyConnected (Dense)          (None, 200)          3800        dropout_5[0][0]\n",
      " __________________________________________________________________________________________________\n",
      " Batch (BatchNormalization)      (None, 200)          800         FullyConnected[0][0]\n",
      " __________________________________________________________________________________________________\n",
      " Dropout-1 (Dropout)             (None, 200)          0           Batch[0][0]\n",
      " __________________________________________________________________________________________________\n",
      " FullyConnected-1 (Dense)        (None, 100)          20100       Dropout-1[0][0]\n",
      " __________________________________________________________________________________________________\n",
      " Batch-2 (BatchNormalization)    (None, 100)          400         FullyConnected-1[0][0]\n",
      " __________________________________________________________________________________________________\n",
      " Movie-Embedding-MF (Embedding)  (None, 1, 3)         30003       Item[0][0]\n",
      " __________________________________________________________________________________________________\n",
      " User-Embedding-MF (Embedding)   (None, 1, 3)         229062      User[0][0]\n",
      " __________________________________________________________________________________________________\n",
      " Dropout-2 (Dropout)             (None, 100)          0           Batch-2[0][0]\n",
      " __________________________________________________________________________________________________\n",
      " FlattenMovies-MF (Flatten)      (None, 3)            0           Movie-Embedding-MF[0][0]\n",
      " __________________________________________________________________________________________________\n",
      " FlattenUsers-MF (Flatten)       (None, 3)            0           User-Embedding-MF[0][0]\n",
      " __________________________________________________________________________________________________\n",
      " FullyConnected-2 (Dense)        (None, 50)           5050        Dropout-2[0][0]\n",
      " __________________________________________________________________________________________________\n",
      " dropout_2 (Dropout)             (None, 3)            0           FlattenMovies-MF[0][0]\n",
      " __________________________________________________________________________________________________\n",
      " dropout_4 (Dropout)             (None, 3)            0           FlattenUsers-MF[0][0]\n",
      " __________________________________________________________________________________________________\n",
      " FullyConnected-3 (Dense)        (None, 20)           1020        FullyConnected-2[0][0]\n",
      " __________________________________________________________________________________________________\n",
      " Dot (Concatenate)               (None, 6)            0           dropout_2[0][0]\n",
      "                                                                  dropout_4[0][0]\n",
      " __________________________________________________________________________________________________\n",
      " Activation (Dense)              (None, 1)            21          FullyConnected-3[0][0]\n",
      " __________________________________________________________________________________________________\n",
      " Concat-MF-MLP (Concatenate)     (None, 7)            0           Dot[0][0]\n",
      "                                                                  Activation[0][0]\n",
      " __________________________________________________________________________________________________\n",
      " Combine-MF-MLP (Dense)          (None, 100)          800         Concat-MF-MLP[0][0]\n",
      " __________________________________________________________________________________________________\n",
      " __________________________________________________________________________________________________\n",
      "FullyConnected-4 (Dense)        (None, 100)          10100       Combine-MF-MLP[0][0]\n",
      "__________________________________________________________________________________________________\n",
      "Prediction (Dense)              (None, 1)            101         FullyConnected-4[0][0]\n",
      "==================================================================================================\n",
      "Total params: 1,012,099\n",
      "Trainable params: 1,011,499\n",
      "Non-trainable params: 600\n",
      "__________________________________________________________________________________________________\n",
      "\n"
     ]
    }
   ],
   "source": [
    "pred_mf = keras.layers.concatenate([movie_vec_mf, user_vec_mf],name='Dot')\n",
    "\n",
    "\n",
    "pred_mlp = keras.layers.Dense(1, activation='relu',name='Activation')(dense_4)\n",
    "\n",
    "combine_mlp_mf = keras.layers.concatenate([pred_mf, pred_mlp],name='Concat-MF-MLP')\n",
    "result_combine = keras.layers.Dense(100,name='Combine-MF-MLP')(combine_mlp_mf)\n",
    "deep_combine = keras.layers.Dense(100,name='FullyConnected-4')(result_combine)\n",
    "\n",
    "\n",
    "result = keras.layers.Dense(1,name='Prediction')(deep_combine)\n",
    "\n",
    "\n",
    "model = keras.Model([user_input, movie_input], result)\n",
    "opt = keras.optimizers.Adam(lr =0.01)\n",
    "model.compile(optimizer='adam',loss= 'mean_absolute_error')\n",
    "model.summary()"
   ]
  },
  {
   "cell_type": "code",
   "execution_count": null,
   "metadata": {},
   "outputs": [],
   "source": [
    "history = model.fit([train.us_id, train.s_id], train.listen_count, epochs=25, verbose=0, validation_split=0.1)\n",
    "y_hat_2 = model.predict([test.us_id, test.s_id])"
   ]
  },
  {
   "cell_type": "code",
   "execution_count": null,
   "metadata": {},
   "outputs": [],
   "source": [
    "true_values = reemovNestings(y_true)\n",
    "predict_values = reemovNesting(y_hat_2)\n",
    "\n",
    "with open('true.pkl', 'wb') as f1:\n",
    "    pickle.dump(true_values, f1)\n",
    "\n",
    "with open('pred.pkl.pkl', 'wb') as f2:\n",
    "    pickle.dump(predict_values, f2)"
   ]
  },
  {
   "cell_type": "code",
   "execution_count": 53,
   "metadata": {},
   "outputs": [],
   "source": [
    "file4 = open(\"pred.pkl\",'rb')\n",
    "predict_NCF = pickle.load(file4)\n",
    "file4.close()"
   ]
  },
  {
   "cell_type": "code",
   "execution_count": 61,
   "metadata": {},
   "outputs": [],
   "source": [
    "def NCF(preds,k):\n",
    "    pred_ens=np.mean(np.array(preds),axis=0)\n",
    "    print(\"RMS Error for NCF approach is \",find_RMS(pred_ens,ground_truth))\n",
    "    print(\"MAE Error for NCF approach is \", find_MAE(pred_ens,ground_truth))\n",
    "    predict_data_ens = test_data.copy()\n",
    "    predict_data_ens['listen_count']= pred_ens\n",
    "    predict_user_dict_ens= findUSerCounts(predict_data_ens)\n",
    "    topksongs_pred_ens= findTopKSongs(predict_user_dict_ens,k)\n",
    "    return predict_user_dict_ens,topksongs_pred_ens"
   ]
  },
  {
   "cell_type": "code",
   "execution_count": 55,
   "metadata": {},
   "outputs": [],
   "source": [
    "predictions_ncf = []\n",
    "predictions_ncf.append(predict_NCF)"
   ]
  },
  {
   "cell_type": "code",
   "execution_count": 62,
   "metadata": {},
   "outputs": [
    {
     "name": "stdout",
     "output_type": "stream",
     "text": [
      "RMS Error for NCF approach is  0.34617077025694565\n",
      "MAE Error for NCF approach is  0.22180765863063948\n"
     ]
    }
   ],
   "source": [
    "predict_user_dict_ncf,topksongs_pred_ncf= NCF(predictions_ncf ,k)"
   ]
  },
  {
   "cell_type": "code",
   "execution_count": 57,
   "metadata": {},
   "outputs": [
    {
     "name": "stdout",
     "output_type": "stream",
     "text": [
      "Average precision is: 0.8568528511010646\n",
      "Average NDCG is: 0.8392902111641302\n"
     ]
    }
   ],
   "source": [
    "precision_ncf,ndcg_ncf= evaluate(topksongs_pred_ncf,topksongs_test,5,test_rel_scores_dict)\n",
    "print('Average precision is:',precision_ncf)\n",
    "print('Average NDCG is:',ndcg_ncf)"
   ]
  },
  {
   "cell_type": "code",
   "execution_count": 58,
   "metadata": {},
   "outputs": [],
   "source": [
    "krange= list(range(2,15))\n",
    "precision_vals_ncf, ndcg_vals_ncf= eval_model(predict_user_dict_ncf,test_user_dict,test_rel_scores_dict,krange)"
   ]
  },
  {
   "cell_type": "code",
   "execution_count": 59,
   "metadata": {},
   "outputs": [
    {
     "data": {
      "image/png": "[encoded data removed]",
      "text/plain": [
       "<Figure size 432x288 with 1 Axes>"
      ]
     },
     "metadata": {
      "needs_background": "light"
     },
     "output_type": "display_data"
    }
   ],
   "source": [
    "plt.plot(np.array(krange),np.array(precision_vals_ncf))\n",
    "plt.show()"
   ]
  },
  {
   "cell_type": "code",
   "execution_count": 60,
   "metadata": {},
   "outputs": [
    {
     "data": {
      "image/png": "[encoded data removed]",
      "text/plain": [
       "<Figure size 432x288 with 1 Axes>"
      ]
     },
     "metadata": {
      "needs_background": "light"
     },
     "output_type": "display_data"
    }
   ],
   "source": [
    "plt.plot(np.array(krange),np.array(ndcg_vals_ncf))\n",
    "plt.show()"
   ]
  },
  {
   "cell_type": "markdown",
   "metadata": {},
   "source": [
    "# Ensemble Model"
   ]
  },
  {
   "cell_type": "code",
   "execution_count": 11,
   "metadata": {},
   "outputs": [],
   "source": [
    "def ensemble(preds,k):\n",
    "    pred_ens=np.mean(np.array(preds),axis=0)\n",
    "    print(\"RMS Error for Ensemble approach is \",find_RMS(pred_ens,ground_truth))\n",
    "    print(\"MAE Error for Ensemble approach is \", find_MAE(pred_ens,ground_truth))\n",
    "    predict_data_ens = test_data.copy()\n",
    "    predict_data_ens['listen_count']= pred_ens\n",
    "    predict_user_dict_ens= findUSerCounts(predict_data_ens)\n",
    "    topksongs_pred_ens= findTopKSongs(predict_user_dict_ens,k)\n",
    "    return predict_user_dict_ens,topksongs_pred_ens\n",
    "    \n",
    "    "
   ]
  },
  {
   "cell_type": "code",
   "execution_count": 5,
   "metadata": {},
   "outputs": [],
   "source": [
    "import pickle\n",
    "file = open(\"svd.p\",'rb')\n",
    "predict_SVD = pickle.load(file)\n",
    "file.close()\n",
    "\n",
    "file2 = open(\"svdpp.p\", 'rb')\n",
    "predict_SVDPP = pickle.load(file2)\n",
    "file2.close()\n",
    "\n",
    "file3 = open(\"bpr.p\", 'rb')\n",
    "predict_BPR = pickle.load(file3)\n",
    "file3.close()"
   ]
  },
  {
   "cell_type": "code",
   "execution_count": 46,
   "metadata": {},
   "outputs": [],
   "source": [
    "file4 = open(\"pred.pkl\",'rb')\n",
    "predict_NCF = pickle.load(file4)\n",
    "file4.close()\n"
   ]
  },
  {
   "cell_type": "code",
   "execution_count": 48,
   "metadata": {},
   "outputs": [],
   "source": [
    "preds=[]\n",
    "preds.append(predict_SVD)\n",
    "preds.append(predict_SVDPP)\n",
    "preds.append(predict_BPR)\n",
    "preds.append(predict_NCF)"
   ]
  },
  {
   "cell_type": "code",
   "execution_count": 49,
   "metadata": {},
   "outputs": [
    {
     "name": "stdout",
     "output_type": "stream",
     "text": [
      "RMS Error for Ensemble approach is  0.32854015704186956\n",
      "MAE Error for Ensemble approach is  0.2731171991551777\n"
     ]
    }
   ],
   "source": [
    "k=10\n",
    "predict_user_dict_ens,topksongs_pred_ens= ensemble(preds,k)"
   ]
  },
  {
   "cell_type": "code",
   "execution_count": 50,
   "metadata": {},
   "outputs": [
    {
     "name": "stdout",
     "output_type": "stream",
     "text": [
      "Average precision is: 0.8585912206504303\n",
      "Average NDCG is: 0.8397175977747019\n"
     ]
    }
   ],
   "source": [
    "precision_ens,ndcg_ens= evaluate(topksongs_pred_ens,topksongs_test,5,test_rel_scores_dict)\n",
    "print('Average precision is:',precision_ens )\n",
    "print('Average NDCG is:',ndcg_ens )"
   ]
  },
  {
   "cell_type": "code",
   "execution_count": 51,
   "metadata": {},
   "outputs": [],
   "source": [
    "krange= list(range(2,15))\n",
    "precision_vals_ens, ndcg_vals_ens= eval_model(predict_user_dict_ens,test_user_dict,test_rel_scores_dict,krange)"
   ]
  },
  {
   "cell_type": "code",
   "execution_count": 52,
   "metadata": {},
   "outputs": [
    {
     "data": {
      "image/png": "[encoded data removed]",
      "text/plain": [
       "<Figure size 432x288 with 1 Axes>"
      ]
     },
     "metadata": {
      "needs_background": "light"
     },
     "output_type": "display_data"
    }
   ],
   "source": [
    "plt.plot(np.array(krange),np.array(precision_vals_ens))\n",
    "plt.show()"
   ]
  },
  {
   "cell_type": "code",
   "execution_count": 53,
   "metadata": {},
   "outputs": [
    {
     "data": {
      "image/png": "[encoded data removed]",
      "text/plain": [
       "<Figure size 432x288 with 1 Axes>"
      ]
     },
     "metadata": {
      "needs_background": "light"
     },
     "output_type": "display_data"
    }
   ],
   "source": [
    "plt.plot(np.array(krange),np.array(ndcg_vals_ens))\n",
    "plt.show()"
   ]
  },
  {
   "cell_type": "code",
   "execution_count": null,
   "metadata": {},
   "outputs": [],
   "source": []
  },
  {
   "cell_type": "code",
   "execution_count": null,
   "metadata": {},
   "outputs": [],
   "source": []
  }
 ],
 "metadata": {
  "kernelspec": {
   "display_name": "Python 3",
   "language": "python",
   "name": "python3"
  },
  "language_info": {
   "codemirror_mode": {
    "name": "ipython",
    "version": 3
   },
   "file_extension": ".py",
   "mimetype": "text/x-python",
   "name": "python",
   "nbconvert_exporter": "python",
   "pygments_lexer": "ipython3",
   "version": "3.7.2"
  }
 },
 "nbformat": 4,
 "nbformat_minor": 2
}
